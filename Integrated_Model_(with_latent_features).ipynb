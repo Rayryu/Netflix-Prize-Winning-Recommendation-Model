{
  "nbformat": 4,
  "nbformat_minor": 0,
  "metadata": {
    "colab": {
      "name": "Integrated Model (with latent features).ipynb",
      "provenance": [],
      "collapsed_sections": []
    },
    "kernelspec": {
      "name": "python3",
      "display_name": "Python 3"
    }
  },
  "cells": [
    {
      "cell_type": "markdown",
      "metadata": {
        "id": "tooeKzVbXScF",
        "colab_type": "text"
      },
      "source": [
        "# Integrated Model"
      ]
    },
    {
      "cell_type": "code",
      "metadata": {
        "id": "wW6wl8xeXUlq",
        "colab_type": "code",
        "colab": {}
      },
      "source": [
        "import numpy as np\n",
        "import pandas as pd\n",
        "import matplotlib.pyplot as plt"
      ],
      "execution_count": 0,
      "outputs": []
    },
    {
      "cell_type": "code",
      "metadata": {
        "id": "9fgyhqD2bVAV",
        "colab_type": "code",
        "colab": {}
      },
      "source": [
        "def implicit_neighbours_movies(R, u):\n",
        "    \"\"\" Calculate set of movies for which user u provided an implicit preference.\n",
        "\n",
        "    Note:\n",
        "        Apparently, for the netflix data implicit set is equal to \n",
        "        the explicit set.\n",
        "\n",
        "    Parameters: \n",
        "    R (csr_matrix): Ratings matrix.\n",
        "    S (2-D np.array): Similarity matrix.\n",
        "    u (int): User's index.\n",
        "\n",
        "    Returns: \n",
        "    (1-D np.array): Set of movies for which ratings by user u are available.\n",
        "    \"\"\"\n",
        "\n",
        "    return [i for i in range(R.shape[1]) if R[u, i]]"
      ],
      "execution_count": 0,
      "outputs": []
    },
    {
      "cell_type": "code",
      "metadata": {
        "id": "yg_r6auTboBp",
        "colab_type": "code",
        "colab": {}
      },
      "source": [
        "from scipy.stats import pearsonr\n",
        "\n",
        "def number_user(R_i, R_j):\n",
        "    \"\"\" Calculate number of users that rated both movie i and movie j.\n",
        "\n",
        "    Parameters:\n",
        "        R_i (1-D np.array): Variable i (i-th movie).\n",
        "        R_j (1-D np.array): Variable j (j-th movie).\n",
        "\n",
        "    Returns:\n",
        "        n_ij (float): Number of users that rated both movie i and movie j.\n",
        "\n",
        "    \"\"\"\n",
        "\n",
        "    n_ij = 0\n",
        "    for a, b in zip(R_i, R_j):\n",
        "        if a and b :  # Increment n_ij if both ratings are not equal to zero\n",
        "            n_ij += 1\n",
        "            \n",
        "    return n_ij"
      ],
      "execution_count": 0,
      "outputs": []
    },
    {
      "cell_type": "code",
      "metadata": {
        "id": "ioNxRKpobsag",
        "colab_type": "code",
        "colab": {}
      },
      "source": [
        "def similarity_matrix(R, lambda_2=100):\n",
        "    \"\"\" Calculate the similarity\n",
        "\n",
        "    Parameters: \n",
        "    R (csr_matrix): Ratings matrix.\n",
        "    lamdba_1 (float): Regulation coefficient. \n",
        "  \n",
        "    Returns: \n",
        "    S (array): Similarity matrix\n",
        "\n",
        "    \"\"\"\n",
        "\n",
        "    R = R.tocsr()\n",
        "    n = R.shape[1]\n",
        "    S = np.zeros((n, n))\n",
        "    for i in range(n):\n",
        "        R_i = R[:, i].toarray()  # i-th variable's data\n",
        "        v_i = [v[0] for v in R_i]  # We're using lists since we can't  multiply a sequence by a float \n",
        "        for j in range(i+1):\n",
        "            R_j = R[:, j].toarray()  # j-th variable's data\n",
        "            v_y = [v[0] for v in R_j] \n",
        "            \n",
        "            # Calculate number of users that rated both i and j\n",
        "            n_ij = number_user(R_i, R_j)\n",
        "\n",
        "            # Calculate S_ij using the giving formula\n",
        "            S[i, j], _ = (n_ij / (n_ij + lambda_2))*np.asarray(pearsonr(v_i, v_y))\n",
        "    S += S.T\n",
        "    \n",
        "    return S"
      ],
      "execution_count": 0,
      "outputs": []
    },
    {
      "cell_type": "code",
      "metadata": {
        "id": "CWEVhwtkbvjz",
        "colab_type": "code",
        "colab": {}
      },
      "source": [
        "def k_explicit_neighbours(R, S, u, i, k):\n",
        "    \"\"\" Calculate set of movies for which ratings by user u are available.\n",
        "\n",
        "    Parameters: \n",
        "    R (csr_matrix): Ratings matrix.\n",
        "    S (2-D np.array): Similarity matrix.\n",
        "    u (int): User's index.\n",
        "    i (int): Movie's index.\n",
        "    k (int): Number of movie's neighbours to consider.\n",
        "\n",
        "    Returns: \n",
        "    R_iu_k (1-D np.array): Set of k nearest movies for which \n",
        "                       ratings by u are available.\n",
        "    \"\"\"\n",
        "\n",
        "    S_i = S[:, i]\n",
        "    R_ui = {} # Dictionnary: Movie_index -> similarity with movie i if r_ui > 0\n",
        "\n",
        "    for j in range(len(S_i)):\n",
        "        if R[u, j] > 0:  # Add movie and it's similarity to i if u has given a rating\n",
        "            R_ui[j] = S_i[j]\n",
        "\n",
        "    # Remove i if it's one of the selected neighboors\n",
        "    if i in R_ui:\n",
        "        del R_ui[i]\n",
        "    \n",
        "    # Sort by similarity and keep the first k indices\n",
        "    R_iu_k = [v[0] for v in \n",
        "             sorted(R_ui.items(), key=lambda x: x[1], reverse=True)[:k]]\n",
        "\n",
        "    return R_iu_k"
      ],
      "execution_count": 0,
      "outputs": []
    },
    {
      "cell_type": "code",
      "metadata": {
        "id": "XgvT6snWbyZz",
        "colab_type": "code",
        "colab": {}
      },
      "source": [
        "def k_implicit_neighbours_movies(R, S, u, i, k):\n",
        "    \"\"\" Calculate set of movies for which user u provided an implicit preference.\n",
        "\n",
        "    Note:\n",
        "        Apparently, for the netflix data implicit set is equal to \n",
        "        the explicit set.\n",
        "\n",
        "    Parameters: \n",
        "    R (csr_matrix): Ratings matrix.\n",
        "    S (2-D np.array): Similarity matrix.\n",
        "    u (int): User's index.\n",
        "    i (int): Movie's index.\n",
        "    k (int): Number of movie's neighbours to consider.\n",
        "\n",
        "    Returns: \n",
        "    N_iu_k (1-D np.array): Set of k nearest movies for which \n",
        "                       ratings by u are available.\n",
        "    \"\"\"\n",
        "    \n",
        "    N_iu_k = k_explicit_neighbours(R, S, u, i, k)\n",
        "    \n",
        "    return N_iu_k"
      ],
      "execution_count": 0,
      "outputs": []
    },
    {
      "cell_type": "code",
      "metadata": {
        "id": "Bk0IoDK8b1RS",
        "colab_type": "code",
        "colab": {}
      },
      "source": [
        "def gradient_J(\n",
        "    R, S, f, k, B_i, B_u, mu, P, Q, Y, W, C, lambda_6, lambda_7, lambda_8):\n",
        "    \"\"\"Calculate stochastic gradient descent for the Integrated model.\n",
        "\n",
        "    Parameters:\n",
        "        R (coo_matrix): Rating matrix.\n",
        "        S (2-D np.array): Similarity matrix.\n",
        "        f (int): Number of latent factors.\n",
        "        k (int): Number of movie's neighbours to consider.\n",
        "        B_i (1-D np.array): Observed deviation for each movie.\n",
        "        B_u (1-D np.array): Observed deviation for each user.\n",
        "        mu (float): Overall average rating.\n",
        "        P (2-D np.array): Parameter that describes user u in terms \n",
        "                          of his belonging to f user categories.\n",
        "        Q (2-D np.array): Parameter that represent for the movie i\n",
        "                          the proportions of f genres that it contains.\n",
        "        Y (2-D np.array): Parameter that representes each user u \n",
        "                          by the factor vector. \n",
        "        W (2-D np.array): Parameter associated to the similarity \n",
        "                          between movies i and j.\n",
        "        C (2-D np.array): Parameter associated to the categories \n",
        "                          of movies i and j.\n",
        "        lambda_6 (float): Penality coefficient.\n",
        "        lambda_7 (float): Penality coefficient.\n",
        "        lambda_8 (float): Penality coefficient.\n",
        "\n",
        "    Returns:\n",
        "        b_i (1-D np.array): Gradient of observed deviation for each movie.\n",
        "        b_u (1-D np.array): Gradient of observed deviation for each user.\n",
        "        p (2-D np.array): Gradient of the parameter that describes user u \n",
        "                          in terms of his belonging to f user categories.\n",
        "        q (2-D np.array): Gradient of the parameter that represent for the \n",
        "                          movie i the proportions of f genres that it contains.\n",
        "        y (2-D np.array): Gradient of the parameter that representes each \n",
        "                          user u by the factor vector. \n",
        "        w (2-D np.array): Gradient of the parameter associated to the \n",
        "                          similarity between movies i and j.\n",
        "        c (2-D np.array): Gradient of the parameter associated to the \n",
        "                          categories of movies i and j.\n",
        "\n",
        "    \"\"\"\n",
        "\n",
        "    users, items = R.nonzero()\n",
        "    b_u, b_i =  np.zeros(len(B_u)), np.zeros(len(B_i))\n",
        "    p, q =  np.zeros((len(P), f)), np.zeros((len(Q), f))\n",
        "    y = np.zeros((len(Y), f))\n",
        "    w = np.zeros((len(W), len(W)))\n",
        "    c = np.zeros((len(C), len(C)))\n",
        "\n",
        "    for u, i in zip(users, items):\n",
        "        N_u = implicit_neighbours_movies(R, u)\n",
        "\n",
        "        y_sum = np.zeros(f)\n",
        "        for j in N_u:\n",
        "            for d in range(f):\n",
        "                y_sum[d] += Y[j, d] / np.sqrt(len(N_u))\n",
        "        \n",
        "        R_iu_k = k_explicit_neighbours(R, S, u, i, k)\n",
        "        #N_i_u_k = k_implicit_neighbours_movies(R, S, u, i, k)\n",
        "        N_iu_k = R_iu_k\n",
        "        r_iu_k = sum((R[u, j] - B_u[u] - B_i[j] - mu)*W[i, j] \n",
        "                for j in R_iu_k)\n",
        "        n_iu_k = sum([C[i, j] for j in N_iu_k])\n",
        "\n",
        "        r = mu + B_u[u] + B_i[i] + \\\n",
        "            sum([Q[i, d] * (P[u, d] + y_sum[d]) for d in range(f)]) + \\\n",
        "            r_iu_k / np.sqrt(len(R_iu_k)) + \\\n",
        "            n_iu_k / np.sqrt(len(N_iu_k))\n",
        "\n",
        "        e = R[u, i] - r\n",
        "\n",
        "        b_u[u] += e - lambda_6*B_u[u]\n",
        "        b_i[i] += e - lambda_6*B_i[i]\n",
        "\n",
        "        for d in range(f):\n",
        "            p[u, d] += Q[i, d]*e - lambda_7*P[u, d]\n",
        "            q[i, d] += (P[u, d] + y_sum[d])*e - lambda_7*Q[i, d]\n",
        "            for j in N_u:\n",
        "                y[j, d] += Q[i, d]*e/np.sqrt(len(N_u)) - lambda_7*Y[j, d]\n",
        "\n",
        "        for j in R_iu_k:\n",
        "            w[i, j] += (R[u, j] - B_u[u] - B_i[j] - mu)*e/np.sqrt(len(R_iu_k)) - \\\n",
        "                        lambda_8*W[i, j]\n",
        "        \n",
        "        for j in N_iu_k:\n",
        "            c[i, j] += e/np.sqrt(len(N_iu_k)) - lambda_8*C[i, j]\n",
        "\n",
        "        \n",
        "    return -2*b_i, -2*b_u, -2*p, -2*q, -2*y, -2*w, -2*c"
      ],
      "execution_count": 0,
      "outputs": []
    },
    {
      "cell_type": "code",
      "metadata": {
        "id": "7Pg8fEXiiStF",
        "colab_type": "code",
        "colab": {}
      },
      "source": [
        "def rmse(R, S, f, k, B_i, B_u, mu, P, Q, Y, W, C):\n",
        "    \"\"\"Calculate the root-mean-square deviation using the\n",
        "       estimated parameters.\n",
        "\n",
        "    Parameters:\n",
        "        R (coo_matrix): Rating matrix.\n",
        "        S (2-D np.array): Similarity matrix.\n",
        "        f (int): Number of latent factors.\n",
        "        k (int): Number of movie's neighbours to consider.\n",
        "        B_i (1-D np.array): Observed deviation for each movie.\n",
        "        B_u (1-D np.array): Observed deviation for each user.\n",
        "        mu (float): Overall average rating.\n",
        "        P (2-D np.array): Parameter that describes user u in terms \n",
        "                          of his belonging to f user categories.\n",
        "        Q (2-D np.array): Parameter that represent for the movie i\n",
        "                          the proportions of f genres that it contains.\n",
        "        Y (2-D np.array): Parameter that representes each user u \n",
        "                          by the factor vector. \n",
        "        W (2-D np.array): Parameter associated to the similarity \n",
        "                          between movies i and j.\n",
        "        C (2-D np.array): Parameter associated to the categories \n",
        "                          of movies i and j.\n",
        "\n",
        "    Returns:\n",
        "        error (float): RMSE error value.\n",
        "\n",
        "    \"\"\"\n",
        "\n",
        "    users, items = R.nonzero()\n",
        "    error = 0\n",
        "    for u, i in zip(users, items):\n",
        "        N_u = implicit_neighbours_movies(R, u)\n",
        "\n",
        "        y_sum = np.zeros(f)\n",
        "        for j in N_u:\n",
        "            for d in range(f):\n",
        "                y_sum[d] += Y[j, d] / np.sqrt(len(N_u))\n",
        "        \n",
        "        R_iu_k = k_explicit_neighbours(R, S, u, i, k)\n",
        "        #N_i_u_k = k_implicit_neighbours_movies(R, S, u, i, k)\n",
        "        N_iu_k = R_iu_k\n",
        "        r_iu_k = sum((R[u, j] - B_u[u] - B_i[j] - mu)*W[i, j] \n",
        "                for j in R_iu_k)\n",
        "        n_iu_k = sum([C[i, j] for j in N_iu_k])\n",
        "\n",
        "        r = mu + B_u[u] + B_i[i] + \\\n",
        "            sum([Q[i, d] * (P[u, d] + y_sum[d]) for d in range(f)]) + \\\n",
        "            r_iu_k / np.sqrt(len(R_iu_k)) + \\\n",
        "            n_iu_k / np.sqrt(len(N_iu_k))\n",
        "\n",
        "        error += pow(R[u, i] - r, 2)\n",
        "    error = (1 / R.shape[0]) * error\n",
        "\n",
        "    return error"
      ],
      "execution_count": 0,
      "outputs": []
    },
    {
      "cell_type": "code",
      "metadata": {
        "id": "Q3K2rHfnibNJ",
        "colab_type": "code",
        "colab": {}
      },
      "source": [
        "def recreate_matrix(R, S, f, k, B_i, B_u, mu, P, Q, Y, W, C):\n",
        "    \"\"\"Recreate the matrix using estimated parameters.\n",
        "\n",
        "    Parameters:\n",
        "        R (coo_matrix): Rating matrix.\n",
        "        S (2-D np.array): Similarity matrix.\n",
        "        f (int): Number of latent factors.\n",
        "        k (int): Number of movie's neighbours to consider.\n",
        "        B_i (1-D np.array): Observed deviation for each movie.\n",
        "        B_u (1-D np.array): Observed deviation for each user.\n",
        "        mu (float): Overall average rating.\n",
        "        P (2-D np.array): Parameter that describes user u in terms \n",
        "                          of his belonging to f user categories.\n",
        "        Q (2-D np.array): Parameter that represent for the movie i\n",
        "                          the proportions of f genres that it contains.\n",
        "        Y (2-D np.array): Parameter that representes each user u \n",
        "                          by the factor vector. \n",
        "        W (2-D np.array): Parameter associated to the similarity \n",
        "                          between movies i and j.\n",
        "        C (2-D np.array): Parameter associated to the categories \n",
        "                          of movies i and j.\n",
        "\n",
        "    Returns:\n",
        "        R_estimated (2-D np.array): Recreated rating matrix.\n",
        "\n",
        "    \"\"\"\n",
        "\n",
        "    R = R.tocsr()\n",
        "    R_estimated = np.zeros((len(B_u), len(B_i)))\n",
        "\n",
        "    for u in range(len(B_u)):\n",
        "        for i in range(len(B_i)):\n",
        "            N_u = implicit_neighbours_movies(R, u)\n",
        "\n",
        "            y_sum = np.zeros(f)\n",
        "            for j in N_u:\n",
        "                for d in range(f):\n",
        "                    y_sum[d] += Y[j, d] / np.sqrt(len(N_u))\n",
        "            \n",
        "            R_iu_k = k_explicit_neighbours(R, S, u, i, k)\n",
        "            #N_i_u_k = k_implicit_neighbours_movies(R, S, u, i, k)\n",
        "            N_iu_k = R_iu_k\n",
        "            r_iu_k = sum((R[u, j] - B_u[u] - B_i[j] - mu)*W[i, j] \n",
        "                    for j in R_iu_k)\n",
        "            n_iu_k = sum([C[i, j] for j in N_iu_k])\n",
        "\n",
        "            R_estimated[u, i] = mu + B_u[u] + B_i[i] + \\\n",
        "                sum([Q[i, d] * (P[u, d] + y_sum[d]) for d in range(f)]) + \\\n",
        "                r_iu_k / np.sqrt(len(R_iu_k)) + \\\n",
        "                n_iu_k / np.sqrt(len(N_iu_k))\n",
        "\n",
        "    return R_estimated"
      ],
      "execution_count": 0,
      "outputs": []
    },
    {
      "cell_type": "code",
      "metadata": {
        "id": "33ab0mGPirJZ",
        "colab_type": "code",
        "colab": {}
      },
      "source": [
        "def integrated_model(\n",
        "    R, N, f, k, delta_1=0.007, delta_2=0.007, delta_3=0.001, lambda_2=100, \n",
        "    lambda_6=0.005, lambda_7=0.015, lambda_8=0.015, verbose=False, plot=True):\n",
        "    \"\"\"Estimate SVD++ model parameters using SGD.\n",
        "\n",
        "    Parameters:\n",
        "        R (coo_matrix): Rating matrix.\n",
        "        N (int): Number of iterations.\n",
        "        f (int): Number of latent factors.\n",
        "        k (int): Number of movie's neighbours to consider.\n",
        "        delta_1 (float): Learning rate.\n",
        "        delta_2 (float): Learning rate.\n",
        "        delta_3 (float): Learning rate.\n",
        "        lambda_2 (float): Penality coefficient.\n",
        "        lambda_6 (float): Penality coefficient.\n",
        "        lambda_7 (float): Penality coefficient.\n",
        "        lambda_8 (float): Penality coefficient.\n",
        "        plot (boolean): Plot RMSE track if True.\n",
        "        verbose (boolean): Print number of the current iteration at excecution.\n",
        "\n",
        "    Returns:\n",
        "        B_i_opt (1-D np.array): Optimal observed deviation for each movie.\n",
        "        B_u_opt (1-D np.array): Optimal observed deviation for each user.\n",
        "        P_opt (2-D np.array): Optimal value of the parameter that describes user\n",
        "                              u in terms of his belonging to f user categories.\n",
        "        Q_opt (2-D np.array): Optimal value of the parameter that represent for\n",
        "                              the movie i the proportions of f genres that \n",
        "                              it contains.\n",
        "        Y_opt (2-D np.array): Optimal value of the parameter that representes \n",
        "                              each user u by the factor vector.\n",
        "        W_opt (2-D np.array): Optimal value of the parameter associated \n",
        "                              to the similarity between movies i and j.\n",
        "        C_opt (2-D np.array): Optimal Pvalue of the parameter associated\n",
        "                              to the categories of movies i and j.\n",
        "        S (2-D np.array): Similarity matrix.\n",
        "\n",
        "\n",
        "    \"\"\"\n",
        "\n",
        "    # Weight initialization\n",
        "    B_u = 0 * np.random.rand(R.shape[0])\n",
        "    B_i = 0 * np.random.rand(R.shape[1])\n",
        "    P_u = 0 * np.random.rand(R.shape[0], f)\n",
        "    Q_i = 0 * np.random.rand(R.shape[1], f)\n",
        "    Y_j = 0 * np.random.rand(R.shape[0], f)\n",
        "    W = 0 * np.random.rand(R.shape[1], R.shape[1])\n",
        "    C = 0 * np.random.rand(R.shape[1], R.shape[1])\n",
        "\n",
        "    # Logs initialization\n",
        "    mse_track = np.zeros(N) \n",
        "    w_track = []\n",
        "\n",
        "    # Calculate overall average rating value\n",
        "    mu = R.data.mean()\n",
        "\n",
        "    # Calculate similarity matrix\n",
        "    S = similarity_matrix(R, lambda_2=lambda_2)\n",
        "\n",
        "    # Convert R into a csr_matrix\n",
        "    R = R.tocsr()\n",
        "\n",
        "    # SDG on N iterations\n",
        "    for i in range(N):\n",
        "        if verbose:\n",
        "            print(\"Iteration \"+ str(i))\n",
        "        \n",
        "        # Calculate SGD \n",
        "        gradient = gradient_J(R, S, f, k, B_i, B_u, mu, P_u, Q_i, Y_j, W, C, \n",
        "                              lambda_6, lambda_7, lambda_8)\n",
        "        B_i = B_i - delta_1 * gradient[0] \n",
        "        B_u = B_u - delta_1 * gradient[1]\n",
        "        P_u = P_u - delta_2 * gradient[2]\n",
        "        Q_i = Q_i - delta_2 * gradient[3]\n",
        "        Y_j = Y_j - delta_2 * gradient[4]\n",
        "        W = W - delta_3 * gradient[5]\n",
        "        C = C - delta_3 * gradient[6]\n",
        "\n",
        "        # Saving RMSE values\n",
        "        mse_track[i] = rmse(R, S, f, k, B_i, B_u, mu, P_u, Q_i, Y_j, W, C)\n",
        "\n",
        "        # Saving estimated parameters\n",
        "        w_track.append([B_i, B_u, P_u, Q_i, Y_j, W, C])\n",
        "\n",
        "        #if i>0 and pow(mse_track[i] - mse_track[i-1], 2) < pow(10, -6): break\n",
        "\n",
        "    # Selecting the optimal parameters\n",
        "    idx_min = np.argmin(mse_track) \n",
        "    B_i_opt = w_track[idx_min][0]\n",
        "    B_u_opt = w_track[idx_min][1]\n",
        "    P_u_opt = w_track[idx_min][2]\n",
        "    Q_i_opt = w_track[idx_min][3]\n",
        "    Y_j_opt = w_track[idx_min][4]\n",
        "    W_u_opt = w_track[idx_min][5]\n",
        "    C_u_opt = w_track[idx_min][6]\n",
        "\n",
        "    # Ploting RMSE deviation if plot is True\n",
        "    if plot:\n",
        "        mse_track = np.array([float(round(mse,3)) for mse in mse_track])\n",
        "        plt.figure(figsize = (20,8))\n",
        "        plt.rcParams['axes.facecolor'] = 'orange'\n",
        "        plt.grid(c='white')\n",
        "        plt.plot(np.arange(0,N), mse_track, 'blue')\n",
        "        plt.xlabel('Iteration')\n",
        "        plt.ylabel('MSE')\n",
        "        plt.title('Minimum MSE = {:.4f} reached at iteration {}'.format(min(mse_track),idx_min+1), fontsize = 15)\n",
        "        plt.axvline(x = idx_min, color = 'green')\n",
        "\n",
        "    return B_i_opt, B_u_opt, P_u_opt, Q_i_opt, Y_j_opt, W_u_opt, C_u_opt, S"
      ],
      "execution_count": 0,
      "outputs": []
    },
    {
      "cell_type": "markdown",
      "metadata": {
        "id": "FdlSz29vkRCV",
        "colab_type": "text"
      },
      "source": [
        "# Dump example"
      ]
    },
    {
      "cell_type": "code",
      "metadata": {
        "id": "LGTGSqwSkS7G",
        "colab_type": "code",
        "colab": {}
      },
      "source": [
        "from scipy.sparse import coo_matrix\n",
        "R = coo_matrix(np.array([\n",
        "                [0, 3, 0, 4, 0, 5, 2],\n",
        "                [1, 0, 0, 2, 1, 2, 0],\n",
        "                [5, 2, 4, 5, 0, 0, 3],\n",
        "                [3, 0, 0, 3, 5, 5, 1],\n",
        "                [1, 0, 5, 0, 1, 1, 0],\n",
        "                [2, 4, 1, 4, 2, 3, 0],\n",
        "                [0, 0, 0, 2, 0, 0, 4],\n",
        "                [1, 4, 4, 3, 3, 0, 2]]\n",
        "))"
      ],
      "execution_count": 0,
      "outputs": []
    },
    {
      "cell_type": "code",
      "metadata": {
        "id": "lLbdPGtVkU7B",
        "colab_type": "code",
        "outputId": "9a7af3ca-769d-4bdb-9dc3-3fbae39810b2",
        "colab": {
          "base_uri": "https://localhost:8080/",
          "height": 515
        }
      },
      "source": [
        "# Estimate Integrated model parameters using SGD.\n",
        "\n",
        "B_i_opt, B_u_opt, P_u_opt, Q_i_opt, Y_j_opt, W_u_opt, C_u_opt, S = integrated_model(R, N=1000, k=3, f=3, delta_1=0.007, delta_2=0.007, delta_3=0.001, \n",
        "    lambda_2=100, lambda_6=0.005, lambda_7=0.015, lambda_8=0.015, plot=True)"
      ],
      "execution_count": 14,
      "outputs": [
        {
          "output_type": "display_data",
          "data": {
            "image/png": "[encoded data removed]",
            "text/plain": [
              "<Figure size 1440x576 with 1 Axes>"
            ]
          },
          "metadata": {
            "tags": []
          }
        }
      ]
    },
    {
      "cell_type": "code",
      "metadata": {
        "id": "OVpp_1EBlS4V",
        "colab_type": "code",
        "outputId": "ad99e6d8-cf0a-4ffe-b2f2-4ea322e93b81",
        "colab": {
          "base_uri": "https://localhost:8080/",
          "height": 286
        }
      },
      "source": [
        "# Recreate an estimated matrix using Integrated model's parameters.\n",
        "\n",
        "recreate_matrix(R, S, 3, 3, B_i_opt, B_u_opt, R.data.mean(), P_u_opt, Q_i_opt, Y_j_opt, W_u_opt, C_u_opt) "
      ],
      "execution_count": 0,
      "outputs": [
        {
          "output_type": "execute_result",
          "data": {
            "text/plain": [
              "array([[3.17195856, 3.39597119, 3.94927975, 3.82256813, 3.67700253,\n",
              "        4.35895216, 2.3994108 ],\n",
              "       [0.79818355, 1.49585904, 2.03176149, 1.82092537, 1.47888317,\n",
              "        2.04215738, 0.41894442],\n",
              "       [3.90624927, 3.55296811, 4.2989189 , 4.42567964, 4.00906427,\n",
              "        4.84325102, 2.75318402],\n",
              "       [2.8439872 , 3.44291509, 3.85109948, 3.8547641 , 3.72194896,\n",
              "        4.45175031, 2.18206887],\n",
              "       [1.10020943, 2.2589393 , 3.46095786, 2.50739167, 1.43808929,\n",
              "        1.93480853, 1.28931015],\n",
              "       [2.13350266, 2.73553205, 2.77261889, 2.9468411 , 2.37859409,\n",
              "        3.09273226, 1.22875153],\n",
              "       [2.5479537 , 3.38985201, 3.81606512, 3.00120184, 3.47391603,\n",
              "        4.04787727, 2.85267133],\n",
              "       [2.20636264, 3.35894738, 3.51377559, 3.11508411, 2.89132956,\n",
              "        3.69067973, 1.91382727]])"
            ]
          },
          "metadata": {
            "tags": []
          },
          "execution_count": 13
        }
      ]
    },
    {
      "cell_type": "code",
      "metadata": {
        "id": "_7kQ31sKlPUM",
        "colab_type": "code",
        "outputId": "e1a95de9-abea-4ed6-98b8-a3e005e0d6d8",
        "colab": {
          "base_uri": "https://localhost:8080/",
          "height": 151
        }
      },
      "source": [
        "R.toarray()"
      ],
      "execution_count": 0,
      "outputs": [
        {
          "output_type": "execute_result",
          "data": {
            "text/plain": [
              "array([[0, 3, 0, 4, 0, 5, 2],\n",
              "       [1, 0, 0, 2, 1, 2, 0],\n",
              "       [5, 2, 4, 5, 0, 0, 3],\n",
              "       [3, 0, 0, 3, 5, 5, 1],\n",
              "       [1, 0, 5, 0, 1, 1, 0],\n",
              "       [2, 4, 1, 4, 2, 3, 0],\n",
              "       [0, 0, 0, 2, 0, 0, 4],\n",
              "       [1, 4, 4, 3, 3, 0, 2]], dtype=int64)"
            ]
          },
          "metadata": {
            "tags": []
          },
          "execution_count": 14
        }
      ]
    },
    {
      "cell_type": "markdown",
      "metadata": {
        "id": "bhcauMsefqBM",
        "colab_type": "text"
      },
      "source": [
        "# Real application"
      ]
    },
    {
      "cell_type": "code",
      "metadata": {
        "id": "dDPxdmwKfsz0",
        "colab_type": "code",
        "outputId": "0c117b5e-0bfa-4c58-cee3-339cdb43ac55",
        "colab": {
          "base_uri": "https://localhost:8080/",
          "height": 34
        }
      },
      "source": [
        "from google.colab import drive\n",
        "drive.mount('/content/drive')"
      ],
      "execution_count": 0,
      "outputs": [
        {
          "output_type": "stream",
          "text": [
            "Drive already mounted at /content/drive; to attempt to forcibly remount, call drive.mount(\"/content/drive\", force_remount=True).\n"
          ],
          "name": "stdout"
        }
      ]
    },
    {
      "cell_type": "code",
      "metadata": {
        "id": "UvDzvYMQf0Ta",
        "colab_type": "code",
        "colab": {}
      },
      "source": [
        "from scipy.sparse import save_npz, load_npz, coo_matrix\n",
        "\n",
        "def load_matrix(M_name):\n",
        "    \"\"\" Load previously saved sparce matrix M.\n",
        "\n",
        "    Parameters:\n",
        "        M_name (string): Matrix name as saved in drive (R, T or D).\n",
        "\n",
        "    Returns:\n",
        "        M (coo_matrix): Saved matrix.\n",
        "\n",
        "    \"\"\"\n",
        "\n",
        "    M = load_npz(\"/content/drive/My Drive/Factorisation matricielle - dataset/training_set_csv/\"+M_name+\".npz\")\n",
        "\n",
        "    return M"
      ],
      "execution_count": 0,
      "outputs": []
    },
    {
      "cell_type": "code",
      "metadata": {
        "id": "1BbByo0ff4V7",
        "colab_type": "code",
        "colab": {}
      },
      "source": [
        "# Loading R matrix\n",
        "\n",
        "R = load_matrix(\"R\")"
      ],
      "execution_count": 0,
      "outputs": []
    },
    {
      "cell_type": "code",
      "metadata": {
        "id": "ae3bgm0_f6wq",
        "colab_type": "code",
        "outputId": "996c4e60-1f2f-4882-af86-3b78d9cf77be",
        "colab": {
          "base_uri": "https://localhost:8080/"
        }
      },
      "source": [
        "import datetime\n",
        "start = datetime.datetime.now()\n",
        "\n",
        "B_i_opt, B_u_opt, P_u_opt, Q_i_opt, Y_j_opt, W_u_opt, C_u_opt, S = integrated_model(T, N=300, k=3, f=3, delta_1=0.007, delta_2=0.007, delta_3=0.001, \n",
        "    lambda_2=100, lambda_6=0.005, lambda_7=0.015, lambda_8=0.015, plot=True)\n",
        "\n",
        "print(\"Parameters estimated in : {}\".format(datetime.datetime.now() - start))"
      ],
      "execution_count": 0,
      "outputs": [
        {
          "output_type": "stream",
          "text": [
            "/usr/local/lib/python3.6/dist-packages/scipy/stats/stats.py:3508: PearsonRConstantInputWarning: An input array is constant; the correlation coefficent is not defined.\n",
            "  warnings.warn(PearsonRConstantInputWarning())\n"
          ],
          "name": "stderr"
        }
      ]
    },
    {
      "cell_type": "code",
      "metadata": {
        "id": "wgodSp4JiaPF",
        "colab_type": "code",
        "colab": {}
      },
      "source": [
        "import datetime\n",
        "start = datetime.datetime.now()\n",
        "\n",
        "R_estimate = recreate_matrix(B_i_opt, B_u_opt, mu=R.data.mean())\n",
        "\n",
        "print(\"Parameters estimated in : {}\".format(datetime.datetime.now() - start))"
      ],
      "execution_count": 0,
      "outputs": []
    }
  ]
}