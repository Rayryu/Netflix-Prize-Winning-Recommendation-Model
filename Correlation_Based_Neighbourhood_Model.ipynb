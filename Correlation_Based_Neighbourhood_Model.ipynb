{
  "nbformat": 4,
  "nbformat_minor": 0,
  "metadata": {
    "colab": {
      "name": "Correlation-Based Neighbourhood Model.ipynb",
      "provenance": [],
      "collapsed_sections": []
    },
    "kernelspec": {
      "name": "python3",
      "display_name": "Python 3"
    }
  },
  "cells": [
    {
      "cell_type": "markdown",
      "metadata": {
        "id": "_On_m9lNd6i6",
        "colab_type": "text"
      },
      "source": [
        "#Correlation-Based Neighbourhood Model implementation"
      ]
    },
    {
      "cell_type": "code",
      "metadata": {
        "id": "Swda_-ZNdzBy",
        "colab_type": "code",
        "colab": {}
      },
      "source": [
        "import numpy as np\n",
        "import pandas as pd\n",
        "import matplotlib.pyplot as plt"
      ],
      "execution_count": 0,
      "outputs": []
    },
    {
      "cell_type": "code",
      "metadata": {
        "id": "XpTuT9IzbF3g",
        "colab_type": "code",
        "colab": {}
      },
      "source": [
        "from scipy.stats import pearsonr\n",
        "\n",
        "def number_user(R_i, R_j):\n",
        "    \"\"\" Calculate number of users that rated both movie i and movie j.\n",
        "\n",
        "    Parameters:\n",
        "        R_i (1-D np.array): Variable i (i-th movie).\n",
        "        R_j (1-D np.array): Variable j (j-th movie).\n",
        "\n",
        "    Returns:\n",
        "        n_ij (float): Number of users that rated both movie i and movie j.\n",
        "\n",
        "    \"\"\"\n",
        "\n",
        "    n_ij = 0\n",
        "    for a, b in zip(R_i, R_j):\n",
        "        if a and b :  # Increment n_ij if both ratings are not equal to zero\n",
        "            n_ij += 1\n",
        "            \n",
        "    return n_ij"
      ],
      "execution_count": 0,
      "outputs": []
    },
    {
      "cell_type": "code",
      "metadata": {
        "id": "N_E3G4spZweu",
        "colab_type": "code",
        "colab": {}
      },
      "source": [
        "def similarity_matrix(R, lambda_2=100):\n",
        "    \"\"\" Calculate the similarity\n",
        "\n",
        "    Parameters: \n",
        "    R (csr_matrix): Ratings matrix.\n",
        "    lamdba_1 (float): Regulation coefficient. \n",
        "  \n",
        "    Returns: \n",
        "    S (array): Similarity matrix\n",
        "\n",
        "    \"\"\"\n",
        "\n",
        "    R = R.tocsr()\n",
        "    n = R.shape[1]\n",
        "    S = np.zeros((n, n))\n",
        "    for i in range(n):\n",
        "        R_i = R[:, i].toarray()  # i-th variable's data\n",
        "        v_i = [v[0] for v in R_i]  # We're using lists since we can't  multiply a sequence by a float \n",
        "        for j in range(i+1):\n",
        "            R_j = R[:, j].toarray()  # j-th variable's data\n",
        "            v_y = [v[0] for v in R_j] \n",
        "            \n",
        "            # Calculate number of users that rated both i and j\n",
        "            n_ij = number_user(R_i, R_j)\n",
        "\n",
        "            # Calculate S_ij using the giving formula\n",
        "            S[i, j], _ = (n_ij / (n_ij + lambda_2))*np.asarray(pearsonr(v_i, v_y))\n",
        "    S += S.T\n",
        "    \n",
        "    return S"
      ],
      "execution_count": 0,
      "outputs": []
    },
    {
      "cell_type": "code",
      "metadata": {
        "id": "im-JMmjUZxSW",
        "colab_type": "code",
        "colab": {}
      },
      "source": [
        "def k_similar_movies(R, S, u, i, k):\n",
        "    \"\"\" Calculate the first k similar movies rated by user u.\n",
        "\n",
        "    Parameters: \n",
        "    R (csr_matrix): Ratings matrix.\n",
        "    S (2-D np.array): Similarity matrix.\n",
        "    u (int): User's index.\n",
        "    i (int): Movie's index.\n",
        "    k (int): Number of movie's neighbours to consider.\n",
        "\n",
        "    Returns: \n",
        "    R_iu_k (1-D np.array): Set of k nearest movies for which \n",
        "                           ratings by u are available.\n",
        "\n",
        "    \"\"\"\n",
        "\n",
        "    S_ui = {}  # Dictionnary: Movie_index -> similarity with movie i if r_ui > 0\n",
        "\n",
        "    for j in range(len(S)):\n",
        "        S_ui[j] = S[i, j]  # Add movie and it's similarity to i        \n",
        "\n",
        "    # Remove i if it's one of the selected movies\n",
        "    if i in S_ui:\n",
        "        del S_ui[i]\n",
        "    \n",
        "    # Sort by similarity and keep the first k indices\n",
        "    S_iu_k = [v[0] for v in \n",
        "             sorted(S_ui.items(), key=lambda x: x[1], reverse=True)[:k]]\n",
        "\n",
        "    return S_iu_k"
      ],
      "execution_count": 0,
      "outputs": []
    },
    {
      "cell_type": "code",
      "metadata": {
        "id": "Gwjwv9qadmMJ",
        "colab_type": "code",
        "colab": {}
      },
      "source": [
        "def gradient_J(R, S, k, B_i, B_u, mu, lamdba_2):\n",
        "    \"\"\"Calculate stochastic gradient descent for the Baseline model.\n",
        "\n",
        "    Parameters:\n",
        "        R (coo_matrix): Rating matrix.\n",
        "        S (2-D np.array): Similarity matrix.\n",
        "        k (int): Number of movie's neighbours to consider.\n",
        "        B_i (1-D np.array): Observed deviation for each movie.\n",
        "        B_i (1-D np.array): Observed deviation for each user.\n",
        "        mu (float): Overall average rating.\n",
        "        lambda_2 (float): Penality coefficient.\n",
        "\n",
        "    Returns:\n",
        "        b_i (1-D np.array): Gradient of observed deviation for each movie.\n",
        "        b_u (1-D np.array): Gradient of observed deviation for each user.\n",
        "\n",
        "    \"\"\"\n",
        "\n",
        "    users, items = R.nonzero()\n",
        "    b_u, b_i =  np.zeros(len(B_u)), np.zeros(len(B_i))\n",
        "    for u, i in zip(users, items):\n",
        "        S_ui_k = k_similar_movies(R, S, u, i, k)\n",
        "        \n",
        "        r = B_i[i] + B_u[u] + mu + \\\n",
        "            sum([S[i, j]*(R[u, j] - B_u[u] - B_i[j] - mu) for j in S_ui_k])/ \\\n",
        "                sum([S[i, j] for j in S_ui_k])\n",
        "\n",
        "        e = R[u, i] - r\n",
        "        b_u[u] += e - lamdba_2*B_u[u]\n",
        "        b_i[i] += e - lamdba_2*B_i[i]\n",
        "\n",
        "    return -2*b_i, -2*b_u"
      ],
      "execution_count": 0,
      "outputs": []
    },
    {
      "cell_type": "code",
      "metadata": {
        "id": "trN28vX3dstl",
        "colab_type": "code",
        "colab": {}
      },
      "source": [
        "def rmse(R, S, k, B_i, B_u, mu):\n",
        "    \"\"\"Calculate the root-mean-square deviation using the\n",
        "       estimated parameters.\n",
        "\n",
        "    Parameters:\n",
        "        R (coo_matrix): Rating matrix.\n",
        "        S (2-D np.array): Similarity matrix.\n",
        "        k (int): Number of movie's neighbours to consider.\n",
        "        B_i (1-D np.array): Observed deviation for each movie.\n",
        "        B_i (1-D np.array): Observed deviation for each user.\n",
        "        mu (float): Overall average rating.\n",
        "\n",
        "    Returns:\n",
        "        error (float): RMSE error value.\n",
        "\n",
        "    \"\"\"\n",
        "\n",
        "    users, items = R.nonzero()\n",
        "    error = 0\n",
        "    for u, i in zip(users, items):\n",
        "        S_ui_k = k_similar_movies(R, S, u, i, k)\n",
        "        r = B_i[i] + B_u[u] + mu + \\\n",
        "            sum([S[i, j]*(R[u, j] - B_u[u] - B_i[j] - mu) for j in S_ui_k])/ \\\n",
        "            sum([S[i, j] for j in S_ui_k])\n",
        "        error += pow(R[u, i] - r, 2)\n",
        "    error = (1 / R.shape[0]) * error\n",
        "    \n",
        "    return error"
      ],
      "execution_count": 0,
      "outputs": []
    },
    {
      "cell_type": "code",
      "metadata": {
        "id": "EOUUZxgDduwF",
        "colab_type": "code",
        "colab": {}
      },
      "source": [
        "def recreate_matrix(R, S, k, B_i, B_u, mu):\n",
        "    \"\"\"Recreate the matrix using estimated parameters.\n",
        "\n",
        "    Parameters:\n",
        "        R (coo_matrix): Rating matrix.\n",
        "        S (2-D np.array): Similarity matrix.\n",
        "        k (int): Number of movie's neighbours to consider.\n",
        "        B_i (1-D np.array): Observed deviation for each movie.\n",
        "        B_i (1-D np.array): Observed deviation for each user.\n",
        "        mu (float): Overall average rating.\n",
        "\n",
        "    Returns:\n",
        "        R_estimated (2-D np.array): Recreated rating matrix.\n",
        "\n",
        "    \"\"\"\n",
        "    R = R.tocsr()\n",
        "    R_estimated = np.zeros((len(B_u), len(B_i)))\n",
        "\n",
        "    for u in range(len(B_u)):\n",
        "        for i in range(len(B_i)):\n",
        "            S_ui_k = k_similar_movies(R, S, u, i, k)\n",
        "            R_estimated[u, i] = B_i[i] + B_u[u] + mu + \\\n",
        "            sum([S[i, j]*(R[u, j] - B_u[u] - B_i[j] - mu) for j in S_ui_k])/ \\\n",
        "                sum([S[i, j] for j in S_ui_k])\n",
        "\n",
        "    return R_estimated"
      ],
      "execution_count": 0,
      "outputs": []
    },
    {
      "cell_type": "code",
      "metadata": {
        "id": "ohOih_tm5T7z",
        "colab_type": "code",
        "colab": {}
      },
      "source": [
        "def recommend_k_movies(R, S, k, B_i, B_u, mu, u, k_m):\n",
        "    \"\"\"Recommend k movies to the user u.\n",
        "\n",
        "    Parameters:\n",
        "        R (coo_matrix): Rating matrix.\n",
        "        S (2-D np.array): Similarity matrix.\n",
        "        k (int): Number of movie's neighbours to consider.\n",
        "        B_i (1-D np.array): Observed deviation for each movie.\n",
        "        B_i (1-D np.array): Observed deviation for each user.\n",
        "        mu (float): Overall average rating.\n",
        "        u (int): Index of the user.\n",
        "        k_m (int): Number of movie to recommend.\n",
        "\n",
        "    Returns:\n",
        "        R_u_k (list): List of recommended movies' indices.\n",
        "\n",
        "    \"\"\"\n",
        "    \n",
        "    R = R.tocsr()\n",
        "    R_u = {}\n",
        "    for i in range(len(B_i)):\n",
        "        S_ui_k = k_similar_movies(R, S, u, i, k)\n",
        "\n",
        "        if R[u, i] == 0:  # If the user u didn't watch the movie i yet\n",
        "            R_u[i] = B_i[i] + B_u[u] + mu + \\\n",
        "                    sum([S[i, j]*(R[u, j] - B_u[u] - B_i[j] - mu) \\\n",
        "                         for j in S_ui_k])/ sum([S[i, j] for j in S_ui_k])\n",
        "    \n",
        "    # Sort movies by estimated rating and keep the first k movies\n",
        "    R_u_k_m = [v[0] for v in \n",
        "             sorted(R_u.items(), key=lambda x: x[1], reverse=True)[:k_m]]\n",
        "    \n",
        "    return R_u_k_m"
      ],
      "execution_count": 0,
      "outputs": []
    },
    {
      "cell_type": "code",
      "metadata": {
        "id": "amc4zejIdw9k",
        "colab_type": "code",
        "colab": {}
      },
      "source": [
        "def correlation_based_neighbourhood_model (R, N, k, delta=0.01, lamdba_2=0.02, verbose=False, plot=True):\n",
        "    \"\"\"Estimate Correlation based neighbourhood model parameters using SGD.\n",
        "\n",
        "    Parameters:\n",
        "        R (coo_matrix): Rating matrix.\n",
        "        N (int): Number of iterations.\n",
        "        k (int): Number of movie's neighbours to consider.\n",
        "        delta (float): Learning rate.\n",
        "        lambda_1 (float): Penality coefficient.\n",
        "        plot (boolean): Plot RMSE track if True.\n",
        "        verbose (boolean): Print number of the current iteration at excecution.\n",
        "\n",
        "    Returns:\n",
        "        B_i_opt (1-D array): Optimal observed deviation for each movie.\n",
        "        B_u_opt (1-D array): Optimal observed deviation for each user.\n",
        "\n",
        "    \"\"\"\n",
        "\n",
        "    # Weight initialization\n",
        "    B_u = 2.5 * np.random.rand(R.shape[0])\n",
        "    B_i = 2.5 * np.random.rand(R.shape[1])\n",
        "\n",
        "    # Logs initialization\n",
        "    mse_track = np.zeros(N) \n",
        "    w_track = []\n",
        "\n",
        "    # Calculate overall average rating value\n",
        "    mu = R.data.mean()\n",
        "\n",
        "    # Calculate similarity matrix\n",
        "    S = similarity_matrix(R, lambda_2=100)\n",
        "\n",
        "    # Convert R into a csr_matrix\n",
        "    R = R.tocsr()\n",
        "\n",
        "    # SDG on N iterations\n",
        "    for i in range(0, N):\n",
        "        if verbose:\n",
        "            print(\"Iteration \"+ str(i))\n",
        "        \n",
        "        # Calculate SGD \n",
        "        gradient = gradient_J(R, S, k, B_i, B_u, mu, lamdba_2)\n",
        "        B_i = B_i - delta * gradient[0] \n",
        "        B_u = B_u - delta * gradient[1]\n",
        "\n",
        "        # Saving RMSE values\n",
        "        mse_track[i] = rmse(R, S, k, B_i, B_u, mu)\n",
        "\n",
        "        # Saving estimated parameters\n",
        "        w_track.append([B_i, B_u])\n",
        "\n",
        "    # Selecting the optimal parameters\n",
        "    idx_min = np.argmin(mse_track)\n",
        "    B_i_opt = w_track[idx_min][0]\n",
        "    B_u_opt = w_track[idx_min][1]\n",
        "\n",
        "    # Ploting RMSE deviation if plot is True\n",
        "    if plot:\n",
        "        mse_track = np.array([float(round(mse,3)) for mse in mse_track])\n",
        "        plt.figure(figsize = (20,8))\n",
        "        plt.rcParams['axes.facecolor'] = 'orange'\n",
        "        plt.grid(c='white')\n",
        "        plt.plot(np.arange(0,N), mse_track, 'blue')\n",
        "        plt.xlabel('Iteration')\n",
        "        plt.ylabel('MSE')\n",
        "        plt.title('Minimum MSE = {:.4f} reached at iteration {}'.format(min(mse_track),idx_min+1), fontsize = 15)\n",
        "        plt.axvline(x = idx_min, color = 'green')\n",
        "\n",
        "    return B_i_opt, B_u_opt"
      ],
      "execution_count": 0,
      "outputs": []
    },
    {
      "cell_type": "markdown",
      "metadata": {
        "id": "6f9v6mfUeGnU",
        "colab_type": "text"
      },
      "source": [
        "# Dump example"
      ]
    },
    {
      "cell_type": "code",
      "metadata": {
        "id": "E_d92cqVeJq7",
        "colab_type": "code",
        "outputId": "7dd63fe5-6373-47df-a9ab-3d8fc6e7b1af",
        "colab": {
          "base_uri": "https://localhost:8080/",
          "height": 252
        }
      },
      "source": [
        "from scipy.sparse import coo_matrix\n",
        "R = coo_matrix(np.array([\n",
        "                [0, 3, 0, 4, 0, 5, 2],\n",
        "                [1, 0, 0, 2, 1, 2, 0],\n",
        "                [5, 2, 4, 5, 0, 0, 3],\n",
        "                [3, 0, 0, 3, 5, 5, 1],\n",
        "                [1, 0, 5, 0, 1, 1, 0],\n",
        "                [2, 4, 1, 4, 2, 3, 0],\n",
        "                [0, 0, 0, 2, 0, 0, 4],\n",
        "                [1, 4, 4, 3, 3, 0, 2]]\n",
        "))\n",
        "\n",
        "# Calculating the Similarity matrice\n",
        "S = similarity_matrix(R)\n",
        "S"
      ],
      "execution_count": 10,
      "outputs": [
        {
          "output_type": "execute_result",
          "data": {
            "text/plain": [
              "array([[ 0.11320755,  0.00116995,  0.01229715,  0.02502684,  0.01024774,\n",
              "        -0.0030502 ,  0.00081666],\n",
              "       [ 0.00116995,  0.07692308,  0.00540691,  0.02419159,  0.00042778,\n",
              "         0.00070939,  0.00074511],\n",
              "       [ 0.01229715,  0.00540691,  0.07692308, -0.00520629, -0.00214576,\n",
              "        -0.0119774 , -0.00084693],\n",
              "       [ 0.02502684,  0.02419159, -0.00520629,  0.13084112, -0.00099808,\n",
              "         0.00827561,  0.01593902],\n",
              "       [ 0.01024774,  0.00042778, -0.00214576, -0.00099808,  0.0952381 ,\n",
              "         0.01449574, -0.00731571],\n",
              "       [-0.0030502 ,  0.00070939, -0.0119774 ,  0.00827561,  0.01449574,\n",
              "         0.0952381 , -0.00779897],\n",
              "       [ 0.00081666,  0.00074511, -0.00084693,  0.01593902, -0.00731571,\n",
              "        -0.00779897,  0.0952381 ]])"
            ]
          },
          "metadata": {
            "tags": []
          },
          "execution_count": 10
        }
      ]
    },
    {
      "cell_type": "code",
      "metadata": {
        "id": "ltBelDHMKsYM",
        "colab_type": "code",
        "outputId": "2bffe0eb-bd3e-43a8-ffd3-85f7d1cc93a9",
        "colab": {
          "base_uri": "https://localhost:8080/",
          "height": 515
        }
      },
      "source": [
        "# Estimating Correlation based neighbourhood model parameters using SGD.\n",
        "\n",
        "B_i_opt, B_u_opt = correlation_based_neighbourhood_model (R, k=4, N=1000, delta=0.01, lamdba_2=0.02, plot=True)"
      ],
      "execution_count": 11,
      "outputs": [
        {
          "output_type": "display_data",
          "data": {
            "image/png": "[encoded data removed]",
            "text/plain": [
              "<Figure size 1440x576 with 1 Axes>"
            ]
          },
          "metadata": {
            "tags": []
          }
        }
      ]
    },
    {
      "cell_type": "code",
      "metadata": {
        "id": "lTCMcIr4eqvs",
        "colab_type": "code",
        "outputId": "d94018ae-371d-430e-b2c3-b695fe95b425",
        "colab": {
          "base_uri": "https://localhost:8080/",
          "height": 286
        }
      },
      "source": [
        "recreate_matrix(R, S, 3, B_i_opt, B_u_opt, mu=R.data.mean())"
      ],
      "execution_count": 12,
      "outputs": [
        {
          "output_type": "execute_result",
          "data": {
            "text/plain": [
              "array([[ 1.26121122,  2.278489  ,  1.21673254,  2.76044737,  2.8824604 ,\n",
              "         2.13651969,  2.37109408],\n",
              "       [ 0.42445534,  0.74402   ,  1.08446099,  1.54146204,  1.51094389,\n",
              "         1.95834662,  0.46851038],\n",
              "       [ 2.82128575,  3.95777336,  4.4932044 ,  4.55428092,  2.02164768,\n",
              "         2.45875067,  3.47259849],\n",
              "       [ 1.81220827,  1.60631524,  2.4932044 ,  2.55428092,  4.05283911,\n",
              "         4.78017355,  1.47259849],\n",
              "       [ 0.66476811,  0.05017202,  1.08446099,  1.54146204,  0.9350594 ,\n",
              "         1.25346177, -1.35300945],\n",
              "       [ 1.95054161,  2.53026665,  3.09694992,  3.41067598,  2.5619278 ,\n",
              "         3.40142339,  2.50699826],\n",
              "       [ 0.20903868,  0.70599571,  0.15400199,  2.13585652, -0.04794596,\n",
              "         1.3410005 ,  0.42184628],\n",
              "       [ 2.4153632 ,  2.23318289,  2.26697416,  3.51582428,  0.42715346,\n",
              "         3.66632709,  1.54957425]])"
            ]
          },
          "metadata": {
            "tags": []
          },
          "execution_count": 12
        }
      ]
    },
    {
      "cell_type": "code",
      "metadata": {
        "id": "OwYsvWrm5qis",
        "colab_type": "code",
        "colab": {
          "base_uri": "https://localhost:8080/",
          "height": 34
        },
        "outputId": "83b33741-9d60-4989-99cc-8ec926ce2084"
      },
      "source": [
        "# Recommend k movies to user u uing the Model.\n",
        "\n",
        "recommend_k_movies(R, S, 3, B_i_opt, B_u_opt, mu=R.data.mean(), u = 2, k_m = 2)"
      ],
      "execution_count": 15,
      "outputs": [
        {
          "output_type": "execute_result",
          "data": {
            "text/plain": [
              "[5, 4]"
            ]
          },
          "metadata": {
            "tags": []
          },
          "execution_count": 15
        }
      ]
    },
    {
      "cell_type": "code",
      "metadata": {
        "id": "TUnvruc8fkrH",
        "colab_type": "code",
        "outputId": "122f04ef-7374-481c-d2a0-06dacb162d3b",
        "colab": {
          "base_uri": "https://localhost:8080/",
          "height": 151
        }
      },
      "source": [
        "R.toarray()"
      ],
      "execution_count": 0,
      "outputs": [
        {
          "output_type": "execute_result",
          "data": {
            "text/plain": [
              "array([[0, 3, 0, 4, 0, 5, 2],\n",
              "       [1, 0, 0, 2, 1, 2, 0],\n",
              "       [5, 2, 4, 5, 0, 0, 3],\n",
              "       [3, 0, 0, 3, 5, 5, 1],\n",
              "       [1, 0, 5, 0, 1, 1, 0],\n",
              "       [2, 4, 1, 4, 2, 3, 0],\n",
              "       [0, 0, 0, 2, 0, 0, 4],\n",
              "       [1, 4, 4, 3, 3, 0, 2]], dtype=int64)"
            ]
          },
          "metadata": {
            "tags": []
          },
          "execution_count": 21
        }
      ]
    },
    {
      "cell_type": "markdown",
      "metadata": {
        "id": "bhcauMsefqBM",
        "colab_type": "text"
      },
      "source": [
        "# Real application"
      ]
    },
    {
      "cell_type": "code",
      "metadata": {
        "id": "dDPxdmwKfsz0",
        "colab_type": "code",
        "outputId": "1afd7ff1-afe6-4ca4-e29e-4ed9b3b412e3",
        "colab": {
          "base_uri": "https://localhost:8080/",
          "height": 34
        }
      },
      "source": [
        "from google.colab import drive\n",
        "drive.mount('/content/drive')"
      ],
      "execution_count": 0,
      "outputs": [
        {
          "output_type": "stream",
          "text": [
            "Drive already mounted at /content/drive; to attempt to forcibly remount, call drive.mount(\"/content/drive\", force_remount=True).\n"
          ],
          "name": "stdout"
        }
      ]
    },
    {
      "cell_type": "markdown",
      "metadata": {
        "id": "63Du1LsjGdV2",
        "colab_type": "text"
      },
      "source": [
        "***L'execution de cette partie prend beaucoup de temps sur Colab !***"
      ]
    },
    {
      "cell_type": "code",
      "metadata": {
        "id": "UvDzvYMQf0Ta",
        "colab_type": "code",
        "colab": {}
      },
      "source": [
        "from scipy.sparse import save_npz, load_npz, coo_matrix\n",
        "\n",
        "def load_matrix(M_name):\n",
        "    \"\"\" Load previously saved sparce matrix M.\n",
        "\n",
        "    Parameters:\n",
        "        M_name (string): Matrix name as saved in drive (R, T or D).\n",
        "\n",
        "    Returns:\n",
        "        M (coo_matrix): Saved matrix.\n",
        "\n",
        "    \"\"\"\n",
        "\n",
        "    M = load_npz(\"/content/drive/My Drive/Factorisation matricielle - dataset/training_set_csv/\"+M_name+\".npz\")\n",
        "\n",
        "    return M"
      ],
      "execution_count": 0,
      "outputs": []
    },
    {
      "cell_type": "code",
      "metadata": {
        "id": "1BbByo0ff4V7",
        "colab_type": "code",
        "colab": {}
      },
      "source": [
        "# Loading R matrix\n",
        "\n",
        "R = load_matrix(\"R\")"
      ],
      "execution_count": 0,
      "outputs": []
    },
    {
      "cell_type": "code",
      "metadata": {
        "id": "ae3bgm0_f6wq",
        "colab_type": "code",
        "outputId": "b46d6182-8a01-4158-d904-64f5f9e0fa4c",
        "colab": {
          "base_uri": "https://localhost:8080/",
          "height": 70
        }
      },
      "source": [
        "import datetime\n",
        "start = datetime.datetime.now()\n",
        "\n",
        "B_i_opt, B_u_opt = correlation_based_neighbourhood_model (T, k=4, N=500, delta=0.01, lamdba_2=0.02, plot=True)\n",
        "\n",
        "print(\"Parameters estimated in : {}\".format(datetime.datetime.now() - start))"
      ],
      "execution_count": 0,
      "outputs": [
        {
          "output_type": "stream",
          "text": [
            "/usr/local/lib/python3.6/dist-packages/scipy/stats/stats.py:3508: PearsonRConstantInputWarning: An input array is constant; the correlation coefficent is not defined.\n",
            "  warnings.warn(PearsonRConstantInputWarning())\n"
          ],
          "name": "stderr"
        }
      ]
    },
    {
      "cell_type": "code",
      "metadata": {
        "id": "wgodSp4JiaPF",
        "colab_type": "code",
        "colab": {}
      },
      "source": [
        "import datetime\n",
        "start = datetime.datetime.now()\n",
        "\n",
        "R_estimate = recreate_matrix(B_i_opt, B_u_opt, mu=R.data.mean())\n",
        "\n",
        "print(\"Parameters estimated in : {}\".format(datetime.datetime.now() - start))"
      ],
      "execution_count": 0,
      "outputs": []
    }
  ]
}