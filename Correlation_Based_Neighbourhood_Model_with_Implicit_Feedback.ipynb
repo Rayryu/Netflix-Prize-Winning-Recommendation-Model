{
  "nbformat": 4,
  "nbformat_minor": 0,
  "metadata": {
    "colab": {
      "name": "Correlation-Based Neighbourhood Model with Implicit Feedback.ipynb",
      "provenance": [],
      "collapsed_sections": [],
      "machine_shape": "hm"
    },
    "kernelspec": {
      "name": "python3",
      "display_name": "Python 3"
    }
  },
  "cells": [
    {
      "cell_type": "markdown",
      "metadata": {
        "id": "8tmHJIQR4jA7",
        "colab_type": "text"
      },
      "source": [
        "# Correlation-Based Neighbourhood Model with Implicit Feedback implementation"
      ]
    },
    {
      "cell_type": "code",
      "metadata": {
        "id": "QW5Opd9r4lnA",
        "colab_type": "code",
        "colab": {}
      },
      "source": [
        "import numpy as np\n",
        "import pandas as pd\n",
        "import matplotlib.pyplot as plt"
      ],
      "execution_count": 0,
      "outputs": []
    },
    {
      "cell_type": "code",
      "metadata": {
        "id": "hHSmul-bLY_a",
        "colab_type": "code",
        "colab": {}
      },
      "source": [
        "from scipy.stats import pearsonr\n",
        "\n",
        "def number_user(R_i, R_j):\n",
        "    \"\"\" Calculate number of users that rated both movie i and movie j.\n",
        "\n",
        "    Parameters:\n",
        "        R_i (1-D np.array): Variable i (i-th movie).\n",
        "        R_j (1-D np.array): Variable j (j-th movie).\n",
        "\n",
        "    Returns:\n",
        "        n_ij (float): Number of users that rated both movie i and movie j.\n",
        "\n",
        "    \"\"\"\n",
        "\n",
        "    n_ij = 0\n",
        "    for a, b in zip(R_i, R_j):\n",
        "        if a and b :  # Increment n_ij if both ratings are not equal to zero\n",
        "            n_ij += 1\n",
        "            \n",
        "    return n_ij"
      ],
      "execution_count": 0,
      "outputs": []
    },
    {
      "cell_type": "code",
      "metadata": {
        "id": "dXWtBh5yLceR",
        "colab_type": "code",
        "colab": {}
      },
      "source": [
        "def similarity_matrix(R, lambda_2=100):\n",
        "    \"\"\" Calculate the similarity\n",
        "\n",
        "    Parameters: \n",
        "    R (csr_matrix): Ratings matrix.\n",
        "    lamdba_1 (float): Regulation coefficient. \n",
        "  \n",
        "    Returns: \n",
        "    S (array): Similarity matrix\n",
        "\n",
        "    \"\"\"\n",
        "\n",
        "    R = R.tocsr()\n",
        "    n = R.shape[1]\n",
        "    S = np.zeros((n, n))\n",
        "    for i in range(n):\n",
        "        R_i = R[:, i].toarray()  # i-th variable's data\n",
        "        v_i = [v[0] for v in R_i]  # We're using lists since we can't  multiply a sequence by a float \n",
        "        for j in range(i+1):\n",
        "            R_j = R[:, j].toarray()  # j-th variable's data\n",
        "            v_y = [v[0] for v in R_j] \n",
        "            \n",
        "            # Calculate number of users that rated both i and j\n",
        "            n_ij = number_user(R_i, R_j)\n",
        "\n",
        "            # Calculate S_ij using the giving formula\n",
        "            S[i, j], _ = (n_ij / (n_ij + lambda_2))*np.asarray(pearsonr(v_i, v_y))\n",
        "    S += S.T\n",
        "    \n",
        "    return S"
      ],
      "execution_count": 0,
      "outputs": []
    },
    {
      "cell_type": "code",
      "metadata": {
        "id": "w4whmibE6ikC",
        "colab_type": "code",
        "colab": {}
      },
      "source": [
        "def k_explicit_neighbours(R, S, u, i, k):\n",
        "    \"\"\" Calculate set of movies for which ratings by user u are available.\n",
        "\n",
        "    Parameters: \n",
        "    R (csr_matrix): Ratings matrix.\n",
        "    S (2-D np.array): Similarity matrix.\n",
        "    u (int): User's index.\n",
        "    i (int): Movie's index.\n",
        "    k (int): Number of movie's neighbours to consider.\n",
        "\n",
        "    Returns: \n",
        "    R_iu_k (1-D np.array): Set of k nearest movies for which \n",
        "                       ratings by u are available.\n",
        "    \"\"\"\n",
        "\n",
        "    S_i = S[:, i]\n",
        "    R_ui = {} # Dictionnary: Movie_index -> similarity with movie i if r_ui > 0\n",
        "\n",
        "    for j in range(len(S_i)):\n",
        "        if R[u, j] > 0:  # Add movie and it's similarity to i if u has given a rating\n",
        "            R_ui[j] = S_i[j]\n",
        "\n",
        "    # Remove i if it's one of the selected neighboors\n",
        "    if i in R_ui:\n",
        "        del R_ui[i]\n",
        "    \n",
        "    # Sort by similarity and keep the first k indices\n",
        "    R_iu_k = [v[0] for v in \n",
        "             sorted(R_ui.items(), key=lambda x: x[1], reverse=True)[:k]]\n",
        "\n",
        "    return R_iu_k"
      ],
      "execution_count": 0,
      "outputs": []
    },
    {
      "cell_type": "code",
      "metadata": {
        "id": "ryVpT8PnL5kw",
        "colab_type": "code",
        "colab": {}
      },
      "source": [
        "def k_implicit_neighbours_movies(R, S, u, i, k):\n",
        "    \"\"\" Calculate set of movies for which user u provided an implicit preference.\n",
        "\n",
        "    Note:\n",
        "        Apparently, for the netflix data implicit set is equal to \n",
        "        the explicit set.\n",
        "\n",
        "    Parameters: \n",
        "    R (csr_matrix): Ratings matrix.\n",
        "    S (2-D np.array): Similarity matrix.\n",
        "    u (int): User's index.\n",
        "    i (int): Movie's index.\n",
        "    k (int): Number of movie's neighbours to consider.\n",
        "\n",
        "    Returns: \n",
        "    N_iu_k (1-D np.array): Set of k nearest movies for which \n",
        "                       ratings by u are available.\n",
        "    \"\"\"\n",
        "    \n",
        "    N_iu_k = k_explicit_neighbours(R, S, u, i, k)\n",
        "    \n",
        "    return N_iu_k"
      ],
      "execution_count": 0,
      "outputs": []
    },
    {
      "cell_type": "code",
      "metadata": {
        "id": "TUimoiAIXjc0",
        "colab_type": "code",
        "colab": {}
      },
      "source": [
        "def gradient_J(R, S, k, B_i, B_u, mu, W, C, lambda_4):\n",
        "    \"\"\"Calculate stochastic gradient descent for the correlation\n",
        "    Based Implicit Neighbourhood model.\n",
        "\n",
        "    Parameters:\n",
        "        R (coo_matrix): Rating matrix.\n",
        "        S (2-D np.array): Similarity matrix.\n",
        "        k (int): Number of movie's neighbours to consider.\n",
        "        B_i (1-D np.array): Observed deviation for each movie.\n",
        "        B_i (1-D np.array): Observed deviation for each user.\n",
        "        W (2-D np.array): Parameter associated to the similarity \n",
        "                          between movies i and j.\n",
        "        C (2-D np.array): Parameter associated to the categories \n",
        "                          of movies i and j.\n",
        "        mu (float): Overall average rating.\n",
        "        lambda_4 (float): Penality coefficient.\n",
        "\n",
        "    Returns:\n",
        "        b_i (1-D np.array): Gradient of observed deviation for each movie.\n",
        "        b_u (1-D np.array): Gradient of observed deviation for each user.\n",
        "        w (2-D np.array): Gradient of the parameter associated to the \n",
        "                          similarity between movies i and j.\n",
        "        c (2-D np.array): Gradient of the parameter associated to the \n",
        "                          categories of movies i and j.\n",
        "\n",
        "    \"\"\"\n",
        "\n",
        "    users, items = R.nonzero()\n",
        "    b_u, b_i =  np.zeros(len(B_u)), np.zeros(len(B_i))\n",
        "    w = np.zeros((len(W), len(W)))\n",
        "    c = np.zeros((len(C), len(C)))\n",
        "\n",
        "    for u, i in zip(users, items):\n",
        "        R_iu_k = k_explicit_neighbours(R, S, u, i, k)\n",
        "        # N_i_u_k = k_implicit_neighbours_movies(R, S, u, i, k)\n",
        "        N_iu_k = R_iu_k\n",
        "        r_iu_k = sum((R[u, j] - B_u[u] - B_i[j] - mu)*W[i, j] \n",
        "                for j in R_iu_k)\n",
        "        n_iu_k = sum([C[i, j] for j in N_iu_k])\n",
        "        r_ui = mu + B_u[u] + B_i[i] + (r_iu_k / np.sqrt(len(R_iu_k))) + (\n",
        "            n_iu_k / np.sqrt(len(N_iu_k)))\n",
        "        \n",
        "        e = R[u, i] - r_ui\n",
        "\n",
        "        b_u[u] += e - lambda_4*B_u[u]\n",
        "        b_i[i] += e - lambda_4*B_i[i]\n",
        "\n",
        "        # For each movie in R_iu_k, update w\n",
        "        for j in R_iu_k:\n",
        "            w[i, j] += (R[u, j] - B_u[u] - B_i[j] - mu)*e/np.sqrt(len(R_iu_k)) - \\\n",
        "                        lambda_4*W[i, j]\n",
        "                        \n",
        "        # For each movie in R_iu_k, update c\n",
        "        for j in N_iu_k:\n",
        "            c[i, j] += e/np.sqrt(len(N_iu_k)) - lambda_4*C[i, j]\n",
        "        \n",
        "    return -2*b_i, -2*b_u, -2*w, -2*c"
      ],
      "execution_count": 0,
      "outputs": []
    },
    {
      "cell_type": "code",
      "metadata": {
        "id": "ghPFS5M0chaC",
        "colab_type": "code",
        "colab": {}
      },
      "source": [
        "def rmse(R, S, k, B_i, B_u, mu, W, C):\n",
        "    \"\"\"Calculate the root-mean-square deviation using the\n",
        "       estimated parameters.\n",
        "\n",
        "    Parameters:\n",
        "        R (coo_matrix): Rating matrix.\n",
        "        S (2-D np.array): Similarity matrix.\n",
        "        k (int): Number of movie's neighbours to consider.\n",
        "        B_i (1-D np.array): Observed deviation for each movie.\n",
        "        B_i (1-D np.array): Observed deviation for each user.\n",
        "        W (2-D np.array): Parameter associated to the similarity \n",
        "                          between movies i and j.\n",
        "        C (2-D np.array): Parameter associated to the categories \n",
        "                          of movies i and j.\n",
        "        mu (float): Overall average rating.\n",
        "\n",
        "    Returns:\n",
        "        error (float): RMSE error value.\n",
        "\n",
        "    \"\"\"\n",
        "\n",
        "    users, items = R.nonzero()\n",
        "    error = 0\n",
        "    for u, i in zip(users, items):\n",
        "        R_iu_k = k_explicit_neighbours(R, S, u, i, k)\n",
        "        N_iu_k = R_iu_k\n",
        "\n",
        "        r_iu_k = sum((R[u, j] - B_u[u] - B_i[j] - mu)*W[i, j] \n",
        "                        for j in R_iu_k)\n",
        "        n_iu_k = sum([C[i, j] for j in N_iu_k])\n",
        "        \n",
        "        r = mu + B_u[u] + B_i[i] + (r_iu_k / np.sqrt(len(R_iu_k))) + (n_iu_k / np.sqrt(len(N_iu_k)))\n",
        "        error += pow(R[u, i] - r, 2)\n",
        "    error = (1 / R.shape[0]) * error\n",
        "\n",
        "    return error"
      ],
      "execution_count": 0,
      "outputs": []
    },
    {
      "cell_type": "code",
      "metadata": {
        "id": "URnZOKwkf5G-",
        "colab_type": "code",
        "colab": {}
      },
      "source": [
        "def recreate_matrix(R, B_i, B_u, mu, W, C, S, k):\n",
        "    \"\"\"Recreate the matrix using estimated parameters.\n",
        "\n",
        "    Parameters:\n",
        "        R (coo_matrix): Rating matrix.\n",
        "        S (2-D np.array): Similarity matrix.\n",
        "        k (int): Number of movie's neighbours to consider.\n",
        "        B_i (1-D np.array): Observed deviation for each movie.\n",
        "        B_i (1-D np.array): Observed deviation for each user.\n",
        "        W (2-D np.array): Parameter associated to the similarity \n",
        "                          between movies i and j.\n",
        "        C (2-D np.array): Parameter associated to the categories \n",
        "                          of movies i and j.\n",
        "        mu (float): Overall average rating.\n",
        "\n",
        "    Returns:\n",
        "        R_estimated (2-D np.array): Recreated rating matrix.\n",
        "\n",
        "    \"\"\"\n",
        "\n",
        "    R = R.tocsr()\n",
        "    R_estimated = np.zeros((len(B_u), len(B_i)))\n",
        "\n",
        "    for u in range(len(B_u)):\n",
        "        for i in range(len(B_i)):\n",
        "            R_iu_k = k_explicit_neighbours(R, S, u, i, k)\n",
        "            N_iu_k = R_iu_k\n",
        "\n",
        "            r_iu_k = sum((R[u, j] - B_u[u] - B_i[j] - mu)*W[i, j] \n",
        "                            for j in R_iu_k)\n",
        "            n_iu_k = sum([C[i, j] for j in N_iu_k])\n",
        "            \n",
        "            R_estimated[u, i] = mu + B_u[u] + B_i[i] + (r_iu_k / np.sqrt(\n",
        "                                len(R_iu_k))) + (n_iu_k / np.sqrt(len(N_iu_k)))\n",
        "\n",
        "    return R_estimated"
      ],
      "execution_count": 0,
      "outputs": []
    },
    {
      "cell_type": "code",
      "metadata": {
        "id": "M-0AEOYZ6put",
        "colab_type": "code",
        "colab": {}
      },
      "source": [
        "def recommend_k_movies(R, B_i, B_u, mu, W, C, S, k, u, k_m):\n",
        "    \"\"\"Recommend k movies to the user u.\n",
        "\n",
        "    Parameters:\n",
        "        R (coo_matrix): Rating matrix.\n",
        "        S (2-D np.array): Similarity matrix.\n",
        "        k (int): Number of movie's neighbours to consider.\n",
        "        B_i (1-D np.array): Observed deviation for each movie.\n",
        "        B_i (1-D np.array): Observed deviation for each user.\n",
        "        W (2-D np.array): Parameter associated to the similarity \n",
        "                          between movies i and j.\n",
        "        C (2-D np.array): Parameter associated to the categories \n",
        "                          of movies i and j.\n",
        "        mu (float): Overall average rating.\n",
        "        u (int): Index of the user.\n",
        "        k_m (int): Number of movie to recommend.\n",
        "\n",
        "    Returns:\n",
        "        R_u_k (list): List of recommended movies' indices.\n",
        "\n",
        "    \"\"\"\n",
        "    \n",
        "    R = R.tocsr()\n",
        "    R_u = {}\n",
        "    for i in range(len(B_i)):\n",
        "        if R[u, i] == 0:  # If the user u didn't watch the movie i yet\n",
        "            R_iu_k = k_explicit_neighbours(R, S, u, i, k)\n",
        "            N_iu_k = R_iu_k\n",
        "\n",
        "            r_iu_k = sum((R[u, j] - B_u[u] - B_i[j] - mu)*W[i, j] \n",
        "                            for j in R_iu_k)\n",
        "            n_iu_k = sum([C[i, j] for j in N_iu_k])\n",
        "            \n",
        "            R_u[i] = mu + B_u[u] + B_i[i] + (r_iu_k / np.sqrt(\n",
        "                                len(R_iu_k))) + (n_iu_k / np.sqrt(len(N_iu_k)))\n",
        "    \n",
        "    # Sort movies by estimated rating and keep the first k movies\n",
        "    R_u_k_m = [v[0] for v in \n",
        "             sorted(R_u.items(), key=lambda x: x[1], reverse=True)[:k_m]]\n",
        "    \n",
        "    return R_u_k_m"
      ],
      "execution_count": 0,
      "outputs": []
    },
    {
      "cell_type": "code",
      "metadata": {
        "id": "9uIgTi3lX5Bh",
        "colab_type": "code",
        "colab": {}
      },
      "source": [
        "def correlation_based_implicit_neighbourhood_model(\n",
        "    R, N, k, delta=0.01, lambda_2=0.02, lambda_4=0.02, verbose=False, plot=True):\n",
        "    \"\"\"Estimate Correlation based implicit neighbourhood model \n",
        "       parameters using SGD.\n",
        "\n",
        "    Parameters:\n",
        "        R (coo_matrix): Rating matrix.\n",
        "        N (int): Number of iterations.\n",
        "        k (int): Number of movie's neighbours to consider.\n",
        "        delta (float): Learning rate.\n",
        "        lambda_4 (float): Penality coefficient.\n",
        "        plot (boolean): Plot RMSE track if True.\n",
        "        verbose (boolean): Print number of the current iteration at excecution.\n",
        "\n",
        "    Returns:\n",
        "        B_i_opt (1-D np.array): Optimal observed deviation for each movie.\n",
        "        B_u_opt (1-D np.array): Optimal observed deviation for each user.\n",
        "        W_opt (2-D np.array): Optimal value of the parameter associated \n",
        "                              to the similarity between movies i and j.\n",
        "        C_opt (2-D np.array): Optimal Pvalue of the parameter associated\n",
        "                              to the categories of movies i and j.\n",
        "        S (2-D np.array): Similarity matrix.\n",
        "\n",
        "    \"\"\"\n",
        "\n",
        "    # Weight initialization\n",
        "    B_u = 2.5 * np.random.rand(R.shape[0])\n",
        "    B_i = 2.5 * np.random.rand(R.shape[1])\n",
        "    W = 2.5 * np.random.rand(R.shape[1], R.shape[1])\n",
        "    C = 2.5 * np.random.rand(R.shape[1], R.shape[1])\n",
        "\n",
        "    # Logs initialization\n",
        "    mse_track = np.zeros(N) \n",
        "    w_track = []\n",
        "\n",
        "    # Calculate overall average rating value\n",
        "    mu = R.data.mean()\n",
        "\n",
        "    # Convert R into a csr_matrix\n",
        "    R = R.tocsr()\n",
        "\n",
        "    # Calculate similarity matrix\n",
        "    S = similarity_matrix(R, lambda_2=lambda_2)\n",
        "\n",
        "    # SDG on N iterations\n",
        "    for i in range(N):\n",
        "        if verbose:\n",
        "            print(\"Iteration \"+ str(i))\n",
        "        \n",
        "        # Calculate SGD \n",
        "        gradient = gradient_J(R, S, k, B_i, B_u, mu, W, C, lambda_4)\n",
        "        B_i = B_i - delta * gradient[0] \n",
        "        B_u = B_u - delta * gradient[1]\n",
        "        W = W - delta * gradient[2]\n",
        "        C = C - delta * gradient[3]\n",
        "\n",
        "        # Saving RMSE values\n",
        "        mse_track[i] = rmse(R, S, k, B_i, B_u, mu, W, C)\n",
        "\n",
        "        # Saving estimated parameters\n",
        "        w_track.append([B_i, B_u, W, C])\n",
        "\n",
        "        #if i>0 and pow(mse_track[i] - mse_track[i-1], 2) < pow(10, -6): break\n",
        "\n",
        "    # Selecting the optimal parameters\n",
        "    idx_min = np.argmin(mse_track)\n",
        "    B_i_opt = w_track[idx_min][0]\n",
        "    B_u_opt = w_track[idx_min][1]\n",
        "    W_u_opt = w_track[idx_min][2]\n",
        "    C_u_opt = w_track[idx_min][3]\n",
        "\n",
        "    # Ploting RMSE deviation if plot is True\n",
        "    if plot:\n",
        "        mse_track = np.array([float(round(mse,3)) for mse in mse_track])\n",
        "        plt.figure(figsize = (20,8))\n",
        "        plt.rcParams['axes.facecolor'] = 'orange'\n",
        "        plt.grid(c='white')\n",
        "        plt.plot(np.arange(0,N), mse_track, 'blue')\n",
        "        plt.xlabel('Iteration')\n",
        "        plt.ylabel('MSE')\n",
        "        plt.title('Minimum MSE = {:.4f} reached at iteration {}'.format(min(mse_track),idx_min+1), fontsize = 15)\n",
        "        plt.axvline(x = idx_min, color = 'green')\n",
        "\n",
        "    return B_i_opt, B_u_opt, W_u_opt, C_u_opt, S"
      ],
      "execution_count": 0,
      "outputs": []
    },
    {
      "cell_type": "markdown",
      "metadata": {
        "id": "ULhKAd7wiiTz",
        "colab_type": "text"
      },
      "source": [
        "# Dump example"
      ]
    },
    {
      "cell_type": "code",
      "metadata": {
        "id": "mlgYCYIViknP",
        "colab_type": "code",
        "outputId": "75a97eba-a9d8-4fd6-a585-54c8947500f6",
        "colab": {
          "base_uri": "https://localhost:8080/",
          "height": 252
        }
      },
      "source": [
        "from scipy.sparse import coo_matrix\n",
        "R = coo_matrix(np.array([\n",
        "                [0, 3, 0, 4, 0, 5, 2],\n",
        "                [1, 0, 0, 2, 1, 2, 0],\n",
        "                [5, 2, 4, 5, 0, 0, 3],\n",
        "                [3, 0, 0, 3, 5, 5, 1],\n",
        "                [1, 0, 5, 0, 1, 1, 0],\n",
        "                [2, 4, 1, 4, 2, 3, 0],\n",
        "                [0, 0, 0, 2, 0, 0, 4],\n",
        "                [1, 4, 4, 3, 3, 0, 2]]\n",
        "))\n",
        "\n",
        "# Calculating the Similarity matrice\n",
        "S = similarity_matrix(R)\n",
        "S"
      ],
      "execution_count": 19,
      "outputs": [
        {
          "output_type": "execute_result",
          "data": {
            "text/plain": [
              "array([[ 0.11320755,  0.00116995,  0.01229715,  0.02502684,  0.01024774,\n",
              "        -0.0030502 ,  0.00081666],\n",
              "       [ 0.00116995,  0.07692308,  0.00540691,  0.02419159,  0.00042778,\n",
              "         0.00070939,  0.00074511],\n",
              "       [ 0.01229715,  0.00540691,  0.07692308, -0.00520629, -0.00214576,\n",
              "        -0.0119774 , -0.00084693],\n",
              "       [ 0.02502684,  0.02419159, -0.00520629,  0.13084112, -0.00099808,\n",
              "         0.00827561,  0.01593902],\n",
              "       [ 0.01024774,  0.00042778, -0.00214576, -0.00099808,  0.0952381 ,\n",
              "         0.01449574, -0.00731571],\n",
              "       [-0.0030502 ,  0.00070939, -0.0119774 ,  0.00827561,  0.01449574,\n",
              "         0.0952381 , -0.00779897],\n",
              "       [ 0.00081666,  0.00074511, -0.00084693,  0.01593902, -0.00731571,\n",
              "        -0.00779897,  0.0952381 ]])"
            ]
          },
          "metadata": {
            "tags": []
          },
          "execution_count": 19
        }
      ]
    },
    {
      "cell_type": "code",
      "metadata": {
        "id": "ASxYAnRMfPQT",
        "colab_type": "code",
        "outputId": "91c021a7-9889-4168-8e5a-dd807e6aa705",
        "colab": {
          "base_uri": "https://localhost:8080/",
          "height": 515
        }
      },
      "source": [
        "# Estimate Correlation based implicit neighbourhood model parameters using SGD.\n",
        "\n",
        "B_i_opt, B_u_opt, W_u_opt, C_u_opt, S = correlation_based_implicit_neighbourhood_model(R, N=1000, k=3, delta=0.01, lambda_4=0.02, plot=True)"
      ],
      "execution_count": 20,
      "outputs": [
        {
          "output_type": "display_data",
          "data": {
            "image/png": "[encoded data removed]",
            "text/plain": [
              "<Figure size 1440x576 with 1 Axes>"
            ]
          },
          "metadata": {
            "tags": []
          }
        }
      ]
    },
    {
      "cell_type": "code",
      "metadata": {
        "id": "ubuU2l9SkBfC",
        "colab_type": "code",
        "outputId": "be5ac0c2-cc7d-4b84-ea69-b8a695ecceda",
        "colab": {
          "base_uri": "https://localhost:8080/",
          "height": 286
        }
      },
      "source": [
        "recreate_matrix(R, B_i_opt, B_u_opt, R.data.mean(), W_u_opt, C_u_opt, S, k=3)"
      ],
      "execution_count": 25,
      "outputs": [
        {
          "output_type": "execute_result",
          "data": {
            "text/plain": [
              "array([[ 4.51183784,  3.00411407,  5.30232647,  3.93990509,  4.23125093,\n",
              "         4.94750807,  2.05635538],\n",
              "       [ 0.95654788,  1.43428033,  1.81069343,  2.01565952,  1.13665476,\n",
              "         2.00432422, -0.79567048],\n",
              "       [ 4.95508167,  2.06351512,  3.99164463,  4.93540886,  3.40197985,\n",
              "         5.93404803,  2.98316333],\n",
              "       [ 2.98060056,  2.95258424,  3.93062373,  3.11785469,  4.84101675,\n",
              "         4.96084017,  1.05293507],\n",
              "       [ 0.99790772,  5.73768731,  4.97934938,  2.25818622,  1.02486949,\n",
              "         1.01677619,  2.63121919],\n",
              "       [ 2.02472336,  3.95123891,  1.113231  ,  3.88920406,  2.03335151,\n",
              "         3.02382207,  1.68780139],\n",
              "       [ 3.16768476,  4.5398436 ,  2.93703341,  2.08764898,  6.90010932,\n",
              "         6.90022973,  3.91652057],\n",
              "       [ 1.12982647,  3.96811918,  3.91878359,  3.00845275,  2.96757612,\n",
              "         3.92768675,  2.00886024]])"
            ]
          },
          "metadata": {
            "tags": []
          },
          "execution_count": 25
        }
      ]
    },
    {
      "cell_type": "code",
      "metadata": {
        "id": "eWirIw6I7HWN",
        "colab_type": "code",
        "colab": {
          "base_uri": "https://localhost:8080/",
          "height": 34
        },
        "outputId": "4106ba95-704f-4225-8bc9-98a8f2be63a5"
      },
      "source": [
        "# Recommend k movies to user u uing the Model.\n",
        "\n",
        "recommend_k_movies(R, B_i_opt, B_u_opt, R.data.mean(), W_u_opt, C_u_opt, S, k=3, u = 4, k_m = 3)"
      ],
      "execution_count": 32,
      "outputs": [
        {
          "output_type": "execute_result",
          "data": {
            "text/plain": [
              "[1, 6, 3]"
            ]
          },
          "metadata": {
            "tags": []
          },
          "execution_count": 32
        }
      ]
    },
    {
      "cell_type": "code",
      "metadata": {
        "id": "2kKb_g0yPOur",
        "colab_type": "code",
        "outputId": "16199ad8-2923-4234-9666-fd88983c9074",
        "colab": {
          "base_uri": "https://localhost:8080/",
          "height": 151
        }
      },
      "source": [
        "R.toarray()"
      ],
      "execution_count": 0,
      "outputs": [
        {
          "output_type": "execute_result",
          "data": {
            "text/plain": [
              "array([[0, 3, 0, 4, 0, 5, 2],\n",
              "       [1, 0, 0, 2, 1, 2, 0],\n",
              "       [5, 2, 4, 5, 0, 0, 3],\n",
              "       [3, 0, 0, 3, 5, 5, 1],\n",
              "       [1, 0, 5, 0, 1, 1, 0],\n",
              "       [2, 4, 1, 4, 2, 3, 0],\n",
              "       [0, 0, 0, 2, 0, 0, 4],\n",
              "       [1, 4, 4, 3, 3, 0, 2]], dtype=int64)"
            ]
          },
          "metadata": {
            "tags": []
          },
          "execution_count": 20
        }
      ]
    },
    {
      "cell_type": "markdown",
      "metadata": {
        "id": "bhcauMsefqBM",
        "colab_type": "text"
      },
      "source": [
        "# Real application"
      ]
    },
    {
      "cell_type": "code",
      "metadata": {
        "id": "dDPxdmwKfsz0",
        "colab_type": "code",
        "outputId": "b672694c-0aa4-4c79-eace-d7f2eb195983",
        "colab": {
          "base_uri": "https://localhost:8080/",
          "height": 34
        }
      },
      "source": [
        "from google.colab import drive\n",
        "drive.mount('/content/drive')"
      ],
      "execution_count": 0,
      "outputs": [
        {
          "output_type": "stream",
          "text": [
            "Drive already mounted at /content/drive; to attempt to forcibly remount, call drive.mount(\"/content/drive\", force_remount=True).\n"
          ],
          "name": "stdout"
        }
      ]
    },
    {
      "cell_type": "markdown",
      "metadata": {
        "id": "63Du1LsjGdV2",
        "colab_type": "text"
      },
      "source": [
        "***L'execution de cette partie prend beaucoup de temps sur Colab !***"
      ]
    },
    {
      "cell_type": "code",
      "metadata": {
        "id": "UvDzvYMQf0Ta",
        "colab_type": "code",
        "colab": {}
      },
      "source": [
        "from scipy.sparse import save_npz, load_npz, coo_matrix\n",
        "\n",
        "def load_matrix(M_name):\n",
        "    \"\"\" Load previously saved sparce matrix M.\n",
        "\n",
        "    Parameters:\n",
        "        M_name (string): Matrix name as saved in drive (R, T or D).\n",
        "\n",
        "    Returns:\n",
        "        M (coo_matrix): Saved matrix.\n",
        "\n",
        "    \"\"\"\n",
        "\n",
        "    M = load_npz(\"/content/drive/My Drive/Factorisation matricielle - dataset/training_set_csv/\"+M_name+\".npz\")\n",
        "\n",
        "    return M"
      ],
      "execution_count": 0,
      "outputs": []
    },
    {
      "cell_type": "code",
      "metadata": {
        "id": "1BbByo0ff4V7",
        "colab_type": "code",
        "colab": {}
      },
      "source": [
        "# Loading R matrix\n",
        "\n",
        "R = load_matrix(\"R\")"
      ],
      "execution_count": 0,
      "outputs": []
    },
    {
      "cell_type": "code",
      "metadata": {
        "id": "ae3bgm0_f6wq",
        "colab_type": "code",
        "outputId": "60675e0d-c92d-4583-a895-58f0a1ef7699",
        "colab": {
          "base_uri": "https://localhost:8080/",
          "height": 50
        }
      },
      "source": [
        "import datetime\n",
        "start = datetime.datetime.now()\n",
        "\n",
        "B_i_opt, B_u_opt, W_u_opt, C_u_opt, S = correlation_based_implicit_neighbourhood_model(T, N=500, k=5, delta=0.01, lambda_4=0.02, plot=True)\n",
        "\n",
        "print(\"Parameters estimated in : {}\".format(datetime.datetime.now() - start))"
      ],
      "execution_count": 0,
      "outputs": [
        {
          "output_type": "stream",
          "text": [
            "/usr/local/lib/python3.6/dist-packages/scipy/stats/stats.py:3508: PearsonRConstantInputWarning: An input array is constant; the correlation coefficent is not defined.\n",
            "  warnings.warn(PearsonRConstantInputWarning())\n"
          ],
          "name": "stderr"
        }
      ]
    },
    {
      "cell_type": "code",
      "metadata": {
        "id": "wgodSp4JiaPF",
        "colab_type": "code",
        "colab": {}
      },
      "source": [
        "import datetime\n",
        "start = datetime.datetime.now()\n",
        "\n",
        "R_estimate = recreate_matrix(B_i_opt, B_u_opt, R.data.mean(), W_u_opt, C_u_opt, S, k=3)\n",
        "\n",
        "print(\"Parameters estimated in : {}\".format(datetime.datetime.now() - start))"
      ],
      "execution_count": 0,
      "outputs": []
    }
  ]
}