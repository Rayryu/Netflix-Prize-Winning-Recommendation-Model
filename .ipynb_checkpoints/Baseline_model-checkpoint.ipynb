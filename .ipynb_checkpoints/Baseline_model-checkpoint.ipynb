{
 "cells": [
  {
   "cell_type": "markdown",
   "metadata": {
    "colab_type": "text",
    "id": "_On_m9lNd6i6"
   },
   "source": [
    "#Baseline estimator implementation"
   ]
  },
  {
   "cell_type": "code",
   "execution_count": 1,
   "metadata": {
    "colab": {},
    "colab_type": "code",
    "collapsed": true,
    "id": "Swda_-ZNdzBy"
   },
   "outputs": [],
   "source": [
    "import numpy as np\n",
    "import pandas as pd\n",
    "import matplotlib.pyplot as plt"
   ]
  },
  {
   "cell_type": "code",
   "execution_count": 2,
   "metadata": {
    "colab": {},
    "colab_type": "code",
    "collapsed": true,
    "id": "Gwjwv9qadmMJ"
   },
   "outputs": [],
   "source": [
    "def gradient_J(R, B_i, B_u, mu, lambda_1=0.02):\n",
    "    \"\"\"Calculate stochastic gradient descent for the Baseline model.\n",
    "\n",
    "    Parameters:\n",
    "        R (coo_matrix): Rating matrix.\n",
    "        B_i (1-D np.array): Observed deviation for each movie.\n",
    "        B_i (1-D np.array): Observed deviation for each user.\n",
    "        mu (float): Overall average rating.\n",
    "        lambda_1 (float): Penality coefficient.\n",
    "\n",
    "    Returns:\n",
    "        b_i (1-D np.array): Gradient of observed deviation for each movie.\n",
    "        b_u (1-D np.array): Gradient of observed deviation for each user.\n",
    "\n",
    "    \"\"\"\n",
    "    users, items = R.nonzero()\n",
    "    b_u, b_i =  np.zeros(len(B_u)), np.zeros(len(B_i))\n",
    "    for u, i in zip(users, items):\n",
    "        e = R[u, i] - (B_i[i] + B_u[u] + mu)\n",
    "        b_u[u] += e - lambda_1*B_u[u]\n",
    "        b_i[i] += e - lambda_1*B_i[i]\n",
    "\n",
    "    return -2*b_i, -2*b_u"
   ]
  },
  {
   "cell_type": "code",
   "execution_count": 3,
   "metadata": {
    "colab": {},
    "colab_type": "code",
    "collapsed": true,
    "id": "trN28vX3dstl"
   },
   "outputs": [],
   "source": [
    "def rmse(R, B_i, B_u, mu):\n",
    "    \"\"\"Calculate the root-mean-square deviation using the\n",
    "       estimated parameters.\n",
    "\n",
    "    Parameters:\n",
    "        R (coo_matrix): Rating matrix.\n",
    "        B_i (1-D np.array): Observed deviation for each movie.\n",
    "        B_i (1-D np.array): Observed deviation for each user.\n",
    "        mu (float): Overall average rating.\n",
    "\n",
    "    Returns:\n",
    "        error (float): RMSE error value.\n",
    "\n",
    "    \"\"\"\n",
    "\n",
    "    users, items = R.nonzero()\n",
    "    error = 0\n",
    "    for u, i in zip(users, items):\n",
    "        error += pow(R[u, i] - mu - B_u[u] - B_i[i], 2)\n",
    "    error = (1 / R.shape[0]) * error\n",
    "\n",
    "    return error"
   ]
  },
  {
   "cell_type": "code",
   "execution_count": 4,
   "metadata": {
    "colab": {},
    "colab_type": "code",
    "collapsed": true,
    "id": "EOUUZxgDduwF"
   },
   "outputs": [],
   "source": [
    "def recreate_matrix(B_i, B_u, mu):\n",
    "    \"\"\"Recreate the matrix using estimated parameters.\n",
    "\n",
    "    Parameters:\n",
    "        B_i (1-D np.array): Observed deviation for each movie.\n",
    "        B_i (1-D np.array): Observed deviation for each user.\n",
    "        mu (float): Overall average rating.\n",
    "\n",
    "    Returns:\n",
    "        R_estimated (2-D np.array): Recreated rating matrix.\n",
    "\n",
    "    \"\"\"\n",
    "\n",
    "    R_estimated = mu  + B_i[np.newaxis:,] + B_u[:,np.newaxis]\n",
    "\n",
    "    return R_estimated"
   ]
  },
  {
   "cell_type": "code",
   "execution_count": 14,
   "metadata": {
    "collapsed": true
   },
   "outputs": [],
   "source": [
    "def recommend_k_movies(R, B_i, B_u, mu, u, k):\n",
    "    \"\"\"Recommend k movies to the user u.\n",
    "\n",
    "    Parameters:\n",
    "        R (coo_matrix): Rating matrix.\n",
    "        B_i (1-D np.array): Observed deviation for each movie.\n",
    "        B_i (1-D np.array): Observed deviation for each user.\n",
    "        u (int): Index of the user.\n",
    "        k (int): Number of movie to recommend.\n",
    "\n",
    "    Returns:\n",
    "        R_u_k (list): List of recommended movies' indices.\n",
    "\n",
    "    \"\"\"\n",
    "    \n",
    "    R = R.tocsr()\n",
    "    R_u = {}\n",
    "    for i in range(len(B_i)):\n",
    "        if R[u, i] == 0:  # If the user u didn't watch the movie i yet\n",
    "            R_u[i] = B_i[i] + B_u[u] + mu\n",
    "    \n",
    "    # Sort movies by estimated rating and keep the first k movies\n",
    "    R_u_k = [v[0] for v in \n",
    "             sorted(R_u.items(), key=lambda x: x[1], reverse=True)[:k]]\n",
    "    \n",
    "    return R_u_k"
   ]
  },
  {
   "cell_type": "code",
   "execution_count": 5,
   "metadata": {
    "colab": {},
    "colab_type": "code",
    "collapsed": true,
    "id": "amc4zejIdw9k"
   },
   "outputs": [],
   "source": [
    "def baseline_estimator(R, N, delta=0.01, lambda_1=0.02, verbose=False, plot=False):\n",
    "    \"\"\"Estimate Baseline model parameters using SGD.\n",
    "\n",
    "    Parameters:\n",
    "        R (coo_matrix): Rating matrix.\n",
    "        N (int): Number of iterations.\n",
    "        delta (float): Learning rate.\n",
    "        lambda_1 (float): Penality coefficient.\n",
    "        plot (boolean): Plot RMSE track if True.\n",
    "        verbose (boolean): Print number of the current iteration at excecution.\n",
    "\n",
    "    Returns:\n",
    "        B_i_opt (1-D array): Optimal observed deviation for each movie.\n",
    "        B_u_opt (1-D array): Optimal observed deviation for each user.\n",
    "\n",
    "    \"\"\"\n",
    "\n",
    "    # Weight initialization\n",
    "    B_u = 2.5 * np.random.rand(R.shape[0])\n",
    "    B_i = 2.5 * np.random.rand(R.shape[1])\n",
    "\n",
    "    # Logs initialization\n",
    "    mse_track = np.zeros(N) \n",
    "    w_track = []\n",
    "\n",
    "    # Calculate overall average rating value\n",
    "    mu = R.data.mean()\n",
    "\n",
    "    # Convert R into a csr_matrix\n",
    "    R = R.tocsr()\n",
    "\n",
    "    # SDG on N iterations\n",
    "    for i in range(N):\n",
    "        if verbose : \n",
    "            print(\"Iteration \"+ str(i))\n",
    "        \n",
    "        # Calculate SGD \n",
    "        gradient = gradient_J(R, B_i, B_u, mu, lambda_1)\n",
    "        B_i = B_i - delta * gradient[0] \n",
    "        B_u = B_u - delta * gradient[1]\n",
    "\n",
    "        # Saving RMSE values\n",
    "        mse_track[i] = rmse(R, B_i, B_u, mu)\n",
    "\n",
    "        # Saving estimated parameters\n",
    "        w_track.append([B_i, B_u])\n",
    "\n",
    "    # Selecting the optimal parameters\n",
    "    idx_min = np.argmin(mse_track)\n",
    "    B_i_opt = w_track[idx_min][0]\n",
    "    B_u_opt = w_track[idx_min][1]\n",
    "\n",
    "    # PLoting RMSE deviation if plot is True\n",
    "    if plot:\n",
    "        mse_track = np.array([float(round(mse,3)) for mse in mse_track])\n",
    "        plt.figure(figsize = (20,8))\n",
    "        plt.rcParams['axes.facecolor'] = 'orange'\n",
    "        plt.grid(c='white')\n",
    "        plt.plot(np.arange(0,N), mse_track, 'blue')\n",
    "        plt.xlabel('Iteration')\n",
    "        plt.ylabel('MSE')\n",
    "        plt.title('Minimum MSE = {:.4f} reached at iteration {}'.format(min(mse_track),idx_min+1), fontsize = 15)\n",
    "        plt.axvline(x = idx_min, color = 'green')\n",
    "\n",
    "    return B_i_opt, B_u_opt"
   ]
  },
  {
   "cell_type": "markdown",
   "metadata": {
    "colab_type": "text",
    "id": "6f9v6mfUeGnU"
   },
   "source": [
    "# Dump example"
   ]
  },
  {
   "cell_type": "code",
   "execution_count": 6,
   "metadata": {
    "colab": {
     "base_uri": "https://localhost:8080/",
     "height": 535
    },
    "colab_type": "code",
    "id": "E_d92cqVeJq7",
    "outputId": "e4e0a61b-33b2-4739-d455-9d56e3046511"
   },
   "outputs": [],
   "source": [
    "from scipy.sparse import coo_matrix\n",
    "R = coo_matrix(np.array([\n",
    "                [0, 3, 0, 4, 0, 5, 2],\n",
    "                [1, 0, 0, 2, 1, 2, 0],\n",
    "                [5, 2, 4, 5, 0, 0, 3],\n",
    "                [3, 0, 0, 3, 5, 5, 1],\n",
    "                [1, 0, 5, 0, 1, 1, 0],\n",
    "                [2, 4, 1, 4, 2, 3, 0],\n",
    "                [0, 0, 0, 2, 0, 0, 4],\n",
    "                [1, 4, 4, 3, 3, 0, 2]]\n",
    "))\n",
    "\n",
    "B_i_opt, B_u_opt = baseline_estimator(R, N=1000, delta=0.01, lambda_1=0.02, verbose=False, plot=True)"
   ]
  },
  {
   "cell_type": "code",
   "execution_count": 7,
   "metadata": {
    "colab": {
     "base_uri": "https://localhost:8080/",
     "height": 286
    },
    "colab_type": "code",
    "id": "lTCMcIr4eqvs",
    "outputId": "f4204267-4eb1-41af-8e86-340102f5a436"
   },
   "outputs": [
    {
     "data": {
      "text/plain": [
       "array([[3.00329394, 3.55543772, 4.2134912 , 3.76795962, 3.46780058,\n",
       "        4.13773956, 2.4869375 ],\n",
       "       [0.93743666, 1.48958043, 2.14763391, 1.70210234, 1.40194329,\n",
       "        2.07188228, 0.42108021],\n",
       "       [3.37768985, 3.92983362, 4.5878871 , 4.14235553, 3.84219648,\n",
       "        4.51213546, 2.8613334 ],\n",
       "       [3.01757173, 3.5697155 , 4.22776898, 3.78223741, 3.48207836,\n",
       "        4.15201734, 2.50121528],\n",
       "       [1.31843209, 1.87057587, 2.52862935, 2.08309777, 1.78293873,\n",
       "        2.45287771, 0.80207565],\n",
       "       [1.98683564, 2.53897941, 3.19703289, 2.75150132, 2.45134227,\n",
       "        3.12128125, 1.47047919],\n",
       "       [2.86416236, 3.41630613, 4.07435961, 3.62882804, 3.32866899,\n",
       "        3.99860797, 2.34780591],\n",
       "       [2.41997242, 2.97211619, 3.63016968, 3.1846381 , 2.88447905,\n",
       "        3.55441804, 1.90361597]])"
      ]
     },
     "execution_count": 7,
     "metadata": {},
     "output_type": "execute_result"
    }
   ],
   "source": [
    "R_estimate = recreate_matrix(B_i_opt, B_u_opt, mu=R.data.mean())\n",
    "R_estimate"
   ]
  },
  {
   "cell_type": "code",
   "execution_count": 8,
   "metadata": {
    "colab": {
     "base_uri": "https://localhost:8080/",
     "height": 151
    },
    "colab_type": "code",
    "id": "GNu_m-t9Fnmc",
    "outputId": "0bc0bfca-bb8f-4bea-b85a-de455f2e19a5"
   },
   "outputs": [
    {
     "data": {
      "text/plain": [
       "array([[0, 3, 0, 4, 0, 5, 2],\n",
       "       [1, 0, 0, 2, 1, 2, 0],\n",
       "       [5, 2, 4, 5, 0, 0, 3],\n",
       "       [3, 0, 0, 3, 5, 5, 1],\n",
       "       [1, 0, 5, 0, 1, 1, 0],\n",
       "       [2, 4, 1, 4, 2, 3, 0],\n",
       "       [0, 0, 0, 2, 0, 0, 4],\n",
       "       [1, 4, 4, 3, 3, 0, 2]])"
      ]
     },
     "execution_count": 8,
     "metadata": {},
     "output_type": "execute_result"
    }
   ],
   "source": [
    "R.toarray()"
   ]
  },
  {
   "cell_type": "code",
   "execution_count": 20,
   "metadata": {},
   "outputs": [
    {
     "data": {
      "text/plain": [
       "[2, 1]"
      ]
     },
     "execution_count": 20,
     "metadata": {},
     "output_type": "execute_result"
    }
   ],
   "source": [
    "recommend_k_movies(R, B_i_opt, B_u_opt, mu=R.data.mean(), u = 1, k = 2)"
   ]
  },
  {
   "cell_type": "markdown",
   "metadata": {
    "colab_type": "text",
    "id": "bhcauMsefqBM"
   },
   "source": [
    "# Real application"
   ]
  },
  {
   "cell_type": "code",
   "execution_count": 9,
   "metadata": {
    "colab": {
     "base_uri": "https://localhost:8080/",
     "height": 34
    },
    "colab_type": "code",
    "id": "dDPxdmwKfsz0",
    "outputId": "5a9cb948-c54d-485d-d855-a481c1ef513a"
   },
   "outputs": [
    {
     "ename": "ModuleNotFoundError",
     "evalue": "No module named 'google.colab'",
     "output_type": "error",
     "traceback": [
      "\u001b[1;31m---------------------------------------------------------------------------\u001b[0m",
      "\u001b[1;31mModuleNotFoundError\u001b[0m                       Traceback (most recent call last)",
      "\u001b[1;32m<ipython-input-9-fc2b4561b498>\u001b[0m in \u001b[0;36m<module>\u001b[1;34m()\u001b[0m\n\u001b[1;32m----> 1\u001b[1;33m \u001b[1;32mfrom\u001b[0m \u001b[0mgoogle\u001b[0m\u001b[1;33m.\u001b[0m\u001b[0mcolab\u001b[0m \u001b[1;32mimport\u001b[0m \u001b[0mdrive\u001b[0m\u001b[1;33m\u001b[0m\u001b[0m\n\u001b[0m\u001b[0;32m      2\u001b[0m \u001b[0mdrive\u001b[0m\u001b[1;33m.\u001b[0m\u001b[0mmount\u001b[0m\u001b[1;33m(\u001b[0m\u001b[1;34m'/content/drive'\u001b[0m\u001b[1;33m)\u001b[0m\u001b[1;33m\u001b[0m\u001b[0m\n",
      "\u001b[1;31mModuleNotFoundError\u001b[0m: No module named 'google.colab'"
     ]
    }
   ],
   "source": [
    "from google.colab import drive\n",
    "drive.mount('/content/drive')"
   ]
  },
  {
   "cell_type": "markdown",
   "metadata": {
    "colab_type": "text",
    "id": "63Du1LsjGdV2"
   },
   "source": [
    "***L'execution de cette partie prend beaucoup de temps sur Colab !***"
   ]
  },
  {
   "cell_type": "code",
   "execution_count": null,
   "metadata": {
    "colab": {},
    "colab_type": "code",
    "collapsed": true,
    "id": "UvDzvYMQf0Ta"
   },
   "outputs": [],
   "source": [
    "from scipy.sparse import save_npz, load_npz, coo_matrix\n",
    "\n",
    "def load_matrix(M_name):\n",
    "    \"\"\" Load previously saved sparce matrix M.\n",
    "\n",
    "    Parameters:\n",
    "        M_name (string): Matrix name as saved in drive (R, T or D).\n",
    "\n",
    "    Returns:\n",
    "        M (coo_matrix): Saved matrix.\n",
    "\n",
    "    \"\"\"\n",
    "\n",
    "    M = load_npz(\"/content/drive/My Drive/Factorisation matricielle - dataset/training_set_csv/\"+M_name+\".npz\")\n",
    "\n",
    "    return M"
   ]
  },
  {
   "cell_type": "code",
   "execution_count": null,
   "metadata": {
    "colab": {},
    "colab_type": "code",
    "collapsed": true,
    "id": "1BbByo0ff4V7"
   },
   "outputs": [],
   "source": [
    "# Loading R matrix\n",
    "\n",
    "R = load_matrix(\"R\")"
   ]
  },
  {
   "cell_type": "code",
   "execution_count": null,
   "metadata": {
    "colab": {},
    "colab_type": "code",
    "collapsed": true,
    "id": "ae3bgm0_f6wq"
   },
   "outputs": [],
   "source": [
    "import datetime\n",
    "start = datetime.datetime.now()\n",
    "\n",
    "B_i_opt, B_u_opt = baseline_estimator(T, N=500, delta=0.01, lambda_1=0.02, verbose=False, plot=True)\n",
    "\n",
    "print(\"Parameters estimated in : {}\".format(datetime.datetime.now() - start))"
   ]
  },
  {
   "cell_type": "code",
   "execution_count": null,
   "metadata": {
    "colab": {},
    "colab_type": "code",
    "collapsed": true,
    "id": "wgodSp4JiaPF"
   },
   "outputs": [],
   "source": [
    "import datetime\n",
    "start = datetime.datetime.now()\n",
    "\n",
    "R_estimate = recreate_matrix(B_i_opt, B_u_opt, mu=R.data.mean())\n",
    "\n",
    "print(\"Parameters estimated in : {}\".format(datetime.datetime.now() - start))"
   ]
  }
 ],
 "metadata": {
  "accelerator": "TPU",
  "colab": {
   "collapsed_sections": [],
   "machine_shape": "hm",
   "name": "Baseline model.ipynb",
   "provenance": []
  },
  "kernelspec": {
   "display_name": "Python 3",
   "language": "python",
   "name": "python3"
  },
  "language_info": {
   "codemirror_mode": {
    "name": "ipython",
    "version": 3
   },
   "file_extension": ".py",
   "mimetype": "text/x-python",
   "name": "python",
   "nbconvert_exporter": "python",
   "pygments_lexer": "ipython3",
   "version": "3.6.3"
  }
 },
 "nbformat": 4,
 "nbformat_minor": 1
}
