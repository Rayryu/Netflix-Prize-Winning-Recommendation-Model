{
  "nbformat": 4,
  "nbformat_minor": 0,
  "metadata": {
    "colab": {
      "name": "Latent Factor Models-SVD++ (with latent factors).ipynb",
      "provenance": [],
      "collapsed_sections": []
    },
    "kernelspec": {
      "name": "python3",
      "display_name": "Python 3"
    }
  },
  "cells": [
    {
      "cell_type": "markdown",
      "metadata": {
        "id": "x4IOp60yADnA",
        "colab_type": "text"
      },
      "source": [
        "# SVD++"
      ]
    },
    {
      "cell_type": "code",
      "metadata": {
        "id": "kxGOpiHM_7u-",
        "colab_type": "code",
        "colab": {}
      },
      "source": [
        "import numpy as np\n",
        "import pandas as pd\n",
        "import matplotlib.pyplot as plt\n",
        "import random "
      ],
      "execution_count": 0,
      "outputs": []
    },
    {
      "cell_type": "code",
      "metadata": {
        "id": "_phdv8_fAoPN",
        "colab_type": "code",
        "colab": {}
      },
      "source": [
        "def implicit_neighbours_movies(R, u):\n",
        "    \"\"\" Calculate set of movies for which user u provided an implicit preference.\n",
        "\n",
        "    Note:\n",
        "        Apparently, for the netflix data implicit set is equal to \n",
        "        the explicit set.\n",
        "\n",
        "    Parameters: \n",
        "    R (csr_matrix): Ratings matrix.\n",
        "    S (2-D np.array): Similarity matrix.\n",
        "    u (int): User's index.\n",
        "\n",
        "    Returns: \n",
        "    (1-D np.array): Set of movies for which ratings by user u are available.\n",
        "    \"\"\"\n",
        "\n",
        "    return [i for i in range(R.shape[1]) if R[u, i]]"
      ],
      "execution_count": 0,
      "outputs": []
    },
    {
      "cell_type": "code",
      "metadata": {
        "id": "Rsk01o80AQs3",
        "colab_type": "code",
        "colab": {}
      },
      "source": [
        "def gradient_J(R, f, B_i, B_u, mu, P, Q, Y, lambda_5):\n",
        "    \"\"\"Calculate stochastic gradient descent for the correlation\n",
        "    Based Implicit Neighbourhood model.\n",
        "\n",
        "    Parameters:\n",
        "        R (coo_matrix): Rating matrix.\n",
        "        f (int): Number of latent factors.\n",
        "        B_i (1-D np.array): Observed deviation for each movie.\n",
        "        B_i (1-D np.array): Observed deviation for each user.\n",
        "        mu (float): Overall average rating.\n",
        "        P (2-D np.array): Parameter that describes user u in terms \n",
        "                          of his belonging to f user categories.\n",
        "        Q (2-D np.array): Parameter that represent for the movie i\n",
        "                          the proportions of f genres that it contains.\n",
        "        Y (2-D np.array): Parameter that representes each user u \n",
        "                          by the factor vector. \n",
        "        lambda_5 (float): Penality coefficient.\n",
        "\n",
        "    Returns:\n",
        "        b_i (1-D np.array): Gradient of observed deviation for each movie.\n",
        "        b_u (1-D np.array): Gradient of observed deviation for each user.\n",
        "        p (2-D np.array): Gradient of the parameter that describes user u \n",
        "                          in terms of his belonging to f user categories.\n",
        "        q (2-D np.array): Gradient of the parameter that represent for the \n",
        "                          movie i the proportions of f genres that it contains.\n",
        "        y (2-D np.array): Gradient of the parameter that representes each \n",
        "                          user u by the factor vector. \n",
        "\n",
        "    \"\"\"\n",
        "\n",
        "    users, items = R.nonzero()\n",
        "    b_u, b_i =  np.zeros(len(B_u)), np.zeros(len(B_i))\n",
        "    p, q =  np.zeros((len(P), f)), np.zeros((len(Q), f))\n",
        "    y = np.zeros((len(Y), f))\n",
        "\n",
        "    for u, i in zip(users, items):\n",
        "        N_u = implicit_neighbours_movies(R, u)\n",
        "\n",
        "        y_sum = np.zeros(f)\n",
        "        for j in N_u:\n",
        "            for d in range(f):\n",
        "                y_sum[d] += Y[j, d] / np.sqrt(len(N_u))\n",
        "                \n",
        "        e = R[u, i] - (mu + B_u[u] + B_i[i] + \\\n",
        "                       sum([Q[i, d] * (P[u, d] + y_sum[d]) for d in range(f)]))\n",
        "\n",
        "        b_u[u] += e - lambda_5*B_u[u]\n",
        "        b_i[i] += e - lambda_5*B_i[i]\n",
        "\n",
        "        for d in range(f):\n",
        "            p[u, d] += Q[i, d]*e - lambda_5*P[u, d]\n",
        "\n",
        "            q[i, d] += (P[u, d] + y_sum[d])*e - lambda_5*Q[i, d]\n",
        "\n",
        "            for j in N_u:\n",
        "                y[j, d] += Q[i, d]*e/np.sqrt(len(N_u)) - lambda_5*Y[j, d]\n",
        "\n",
        "        \n",
        "    return -2*b_i, -2*b_u, -2*p, -2*q, -2*y"
      ],
      "execution_count": 0,
      "outputs": []
    },
    {
      "cell_type": "code",
      "metadata": {
        "id": "papoJUbIG9rw",
        "colab_type": "code",
        "colab": {}
      },
      "source": [
        "def rmse(R, B_i, B_u, mu, P, Q, Y):\n",
        "    \"\"\"Calculate the root-mean-square deviation using the\n",
        "       estimated parameters.\n",
        "\n",
        "    Parameters:\n",
        "        R (coo_matrix): Rating matrix.\n",
        "        B_i (1-D np.array): Observed deviation for each movie.\n",
        "        B_i (1-D np.array): Observed deviation for each user.\n",
        "        mu (float): Overall average rating.\n",
        "        P (2-D np.array): Parameter that describes user u in terms \n",
        "                          of his belonging to f user categories.\n",
        "        Q (2-D np.array): Parameter that represent for the movie i\n",
        "                          the proportions of f genres that it contains.\n",
        "        Y (2-D np.array): Parameter that representes each user u \n",
        "                          by the factor vector. \n",
        "\n",
        "    Returns:\n",
        "        error (float): RMSE error value.\n",
        "\n",
        "    \"\"\"\n",
        "\n",
        "    users, items = R.nonzero()\n",
        "    error = 0\n",
        "    for u, i in zip(users, items):\n",
        "        N_u = implicit_neighbours_movies(R, u)\n",
        "        \n",
        "        r = mu + B_u[u] + B_i[i] + np.dot((P[u, :] + sum([Y[j, :] for j in N_u])*\\\n",
        "                                           (1/np.sqrt(len(N_u)))), Q[i, :].T)\n",
        "        error += pow(R[u, i] - r, 2)\n",
        "    error = (1 / R.shape[0]) * error\n",
        "\n",
        "    return error"
      ],
      "execution_count": 0,
      "outputs": []
    },
    {
      "cell_type": "code",
      "metadata": {
        "id": "umyXZcSYIcDp",
        "colab_type": "code",
        "colab": {}
      },
      "source": [
        "def recreate_matrix(R, B_i, B_u, mu, P, Q, Y):\n",
        "    \"\"\"Recreate the matrix using estimated parameters.\n",
        "\n",
        "    Parameters:\n",
        "        B_i (1-D np.array): Observed deviation for each movie.\n",
        "        B_i (1-D np.array): Observed deviation for each user.\n",
        "        mu (float): Overall average rating.\n",
        "        P (2-D np.array): Parameter that describes user u in terms \n",
        "                          of his belonging to f user categories.\n",
        "        Q (2-D np.array): Parameter that represent for the movie i\n",
        "                          the proportions of f genres that it contains.\n",
        "        Y (2-D np.array): Parameter that representes each user u \n",
        "                          by the factor vector. \n",
        "\n",
        "    Returns:\n",
        "        R_estimated (2-D np.array): Recreated rating matrix.\n",
        "\n",
        "    \"\"\"\n",
        "\n",
        "    R = R.tocsr()\n",
        "    R_estimated = np.zeros((len(B_u), len(B_i)))\n",
        "\n",
        "    for u in range(len(B_u)):\n",
        "        for i in range(len(B_i)):\n",
        "            \n",
        "            N_u = implicit_neighbours_movies(R, u)\n",
        "            R_estimated[u, i] = mu + B_u[u] + B_i[i] + \\\n",
        "                                np.dot((P[u, :] + sum([Y[j, :] for j in N_u])*\\\n",
        "                                (1/np.sqrt(len(N_u)))), Q[i, :].T)\n",
        "\n",
        "    return R_estimated"
      ],
      "execution_count": 0,
      "outputs": []
    },
    {
      "cell_type": "code",
      "metadata": {
        "id": "NVlMVOcwGWfJ",
        "colab_type": "code",
        "colab": {}
      },
      "source": [
        "def SVD_plus_plus(R, f, N, delta=0.01, lambda_5=0.02, verbose=False, plot=True):\n",
        "    \"\"\"Estimate SVD++ model parameters using SGD.\n",
        "\n",
        "    Parameters:\n",
        "        R (coo_matrix): Rating matrix.\n",
        "        f (int): Number of latent factors.\n",
        "        N (int): Number of iterations.\n",
        "        delta (float): Learning rate.\n",
        "        lambda_5 (float): Penality coefficient.\n",
        "        plot (boolean): Plot RMSE track if True.\n",
        "        verbose (boolean): Print number of the current iteration at excecution.\n",
        "\n",
        "    Returns:\n",
        "        B_i_opt (1-D np.array): Optimal observed deviation for each movie.\n",
        "        B_u_opt (1-D np.array): Optimal observed deviation for each user.\n",
        "        P_opt (2-D np.array): Optimal value of the parameter that describes user\n",
        "                              u in terms of his belonging to f user categories.\n",
        "        Q_opt (2-D np.array): Optimal value of the parameter that represent for\n",
        "                              the movie i the proportions of f genres that \n",
        "                              it contains.\n",
        "        Y_opt (2-D np.array): Optimal value of the parameter that representes \n",
        "                              each user u by the factor vector. \n",
        "\n",
        "    \"\"\"\n",
        "\n",
        "    # Weight initialization\n",
        "    B_u = 0 * np.random.rand(R.shape[0])\n",
        "    B_i = 0 * np.random.rand(R.shape[1])\n",
        "    P_u = 0 * np.random.rand(R.shape[0], f)\n",
        "    Q_i = 0 * np.random.rand(R.shape[1], f)\n",
        "    Y_j = 0 * np.random.rand(R.shape[0], f)\n",
        "\n",
        "    # Logs initialization\n",
        "    mse_track = np.zeros(N) \n",
        "    w_track = []\n",
        "\n",
        "    # Calculate overall average rating value\n",
        "    mu = R.data.mean()\n",
        "\n",
        "    # Convert R into a csr_matrix\n",
        "    R = R.tocsr()\n",
        "\n",
        "    # SDG on N iterations\n",
        "    for i in range(N):\n",
        "        if verbose:\n",
        "            print(\"Iteration \"+ str(i))\n",
        "        \n",
        "        # Calculate SGD \n",
        "        gradient = gradient_J(R, f, B_i, B_u, mu, P_u, Q_i, Y_j, lambda_5)\n",
        "        B_i = B_i - delta * gradient[0] \n",
        "        B_u = B_u - delta * gradient[1]\n",
        "        P_u = P_u - delta * gradient[2]\n",
        "        Q_i = Q_i - delta * gradient[3]\n",
        "        Y_j = Y_j - delta * gradient[4]\n",
        "\n",
        "        # Saving RMSE values\n",
        "        mse_track[i] = rmse(R, B_i, B_u, mu, P_u, Q_i, Y_j)\n",
        "        \n",
        "        # Saving estimated parameters\n",
        "        w_track.append([B_i, B_u, P_u, Q_i, Y_j])\n",
        "\n",
        "        #if i>0 and pow(mse_track[i] - mse_track[i-1], 2) < pow(10, -6): break\n",
        "\n",
        "    # Selecting the optimal parameters\n",
        "    idx_min = np.argmin(mse_track)\n",
        "    B_i_opt = w_track[idx_min][0]\n",
        "    B_u_opt = w_track[idx_min][1]\n",
        "    P_u_opt = w_track[idx_min][2]\n",
        "    Q_i_opt = w_track[idx_min][3]\n",
        "    Y_j_opt = w_track[idx_min][4]\n",
        "\n",
        "    # Ploting RMSE deviation if plot is True\n",
        "    if plot:\n",
        "        mse_track = np.array([float(round(mse,3)) for mse in mse_track])\n",
        "        plt.figure(figsize = (20,8))\n",
        "        plt.rcParams['axes.facecolor'] = 'orange'\n",
        "        plt.grid(c='white')\n",
        "        plt.plot(np.arange(0,N), mse_track, 'blue')\n",
        "        plt.xlabel('Iteration')\n",
        "        plt.ylabel('MSE')\n",
        "        plt.title('Minimum MSE = {:.4f} reached at iteration {}'.format(min(mse_track),idx_min+1), fontsize = 15)\n",
        "        plt.axvline(x = idx_min, color = 'green')\n",
        "\n",
        "    return B_i_opt, B_u_opt, P_u_opt, Q_i_opt, Y_j_opt"
      ],
      "execution_count": 0,
      "outputs": []
    },
    {
      "cell_type": "markdown",
      "metadata": {
        "id": "cEA8460HI77P",
        "colab_type": "text"
      },
      "source": [
        "# Dump example"
      ]
    },
    {
      "cell_type": "code",
      "metadata": {
        "id": "ptKINGZjI-Lc",
        "colab_type": "code",
        "colab": {}
      },
      "source": [
        "from scipy.sparse import coo_matrix\n",
        "R = coo_matrix(np.array([\n",
        "                [0, 3, 0, 4, 0, 5, 2],\n",
        "                [1, 0, 0, 2, 1, 2, 0],\n",
        "                [5, 2, 4, 5, 0, 0, 3],\n",
        "                [3, 0, 0, 3, 5, 5, 1],\n",
        "                [1, 0, 5, 0, 1, 1, 0],\n",
        "                [2, 4, 1, 4, 2, 3, 0],\n",
        "                [0, 0, 0, 2, 0, 0, 4],\n",
        "                [1, 4, 4, 3, 3, 0, 2]]\n",
        "))"
      ],
      "execution_count": 0,
      "outputs": []
    },
    {
      "cell_type": "code",
      "metadata": {
        "id": "hIt5dFkGJApB",
        "colab_type": "code",
        "outputId": "bf24bcf7-7d97-4dfd-cacd-668f85f1e02f",
        "colab": {
          "base_uri": "https://localhost:8080/",
          "height": 535
        }
      },
      "source": [
        "# Estimate SVD++ model parameters using SGD.\n",
        "\n",
        "B_i_opt, B_u_opt, P_u_opt, Q_i_opt, Y_j_opt = SVD_plus_plus(R, f=3, N=1000, delta=0.01, lambda_5=0.02, plot=True)"
      ],
      "execution_count": 8,
      "outputs": [
        {
          "output_type": "display_data",
          "data": {
            "image/png": "[encoded data removed]",
            "text/plain": [
              "<Figure size 1440x576 with 1 Axes>"
            ]
          },
          "metadata": {
            "tags": []
          }
        }
      ]
    },
    {
      "cell_type": "code",
      "metadata": {
        "id": "qnv-t64WKMif",
        "colab_type": "code",
        "outputId": "87f5c364-01fa-41ac-9c97-d5053ca053a2",
        "colab": {
          "base_uri": "https://localhost:8080/",
          "height": 286
        }
      },
      "source": [
        "# Recreate an estimated matrix using SVD++ model parameters.\n",
        "\n",
        "recreate_matrix(R, B_i_opt, B_u_opt, R.data.mean(), P_u_opt, Q_i_opt, Y_j_opt)"
      ],
      "execution_count": 13,
      "outputs": [
        {
          "output_type": "execute_result",
          "data": {
            "text/plain": [
              "array([[3.00394627, 3.55557738, 4.21367131, 3.76845403, 3.46826389,\n",
              "        4.13808772, 2.48695491],\n",
              "       [0.93784853, 1.48947965, 2.14757358, 1.70235629, 1.40216615,\n",
              "        2.07198998, 0.42085717],\n",
              "       [3.37799321, 3.92962432, 4.58771826, 4.14250097, 3.84231083,\n",
              "        4.51213466, 2.86100185],\n",
              "       [3.01777685, 3.56940796, 4.22750189, 3.78228461, 3.48209447,\n",
              "        4.1519183 , 2.50078549],\n",
              "       [1.31892292, 1.87055404, 2.52864797, 2.08343068, 1.78324054,\n",
              "        2.45306438, 0.80193156],\n",
              "       [1.98685681, 2.53848793, 3.19658186, 2.75136457, 2.45117443,\n",
              "        3.12099826, 1.46986545],\n",
              "       [2.86636296, 3.41799408, 4.07608801, 3.63087072, 3.33068058,\n",
              "        4.00050442, 2.3493716 ],\n",
              "       [2.42004846, 2.97167958, 3.62977351, 3.18455623, 2.88436608,\n",
              "        3.55418992, 1.9030571 ]])"
            ]
          },
          "metadata": {
            "tags": []
          },
          "execution_count": 13
        }
      ]
    },
    {
      "cell_type": "code",
      "metadata": {
        "id": "gz0kNGtoNp5i",
        "colab_type": "code",
        "outputId": "6c7536c3-c0dc-494c-98a4-51b0cb6d98be",
        "colab": {
          "base_uri": "https://localhost:8080/",
          "height": 151
        }
      },
      "source": [
        "R.toarray()"
      ],
      "execution_count": 0,
      "outputs": [
        {
          "output_type": "execute_result",
          "data": {
            "text/plain": [
              "array([[0, 3, 0, 4, 0, 5, 2],\n",
              "       [1, 0, 0, 2, 1, 2, 0],\n",
              "       [5, 2, 4, 5, 0, 0, 3],\n",
              "       [3, 0, 0, 3, 5, 5, 1],\n",
              "       [1, 0, 5, 0, 1, 1, 0],\n",
              "       [2, 4, 1, 4, 2, 3, 0],\n",
              "       [0, 0, 0, 2, 0, 0, 4],\n",
              "       [1, 4, 4, 3, 3, 0, 2]], dtype=int64)"
            ]
          },
          "metadata": {
            "tags": []
          },
          "execution_count": 11
        }
      ]
    },
    {
      "cell_type": "markdown",
      "metadata": {
        "id": "bhcauMsefqBM",
        "colab_type": "text"
      },
      "source": [
        "# Real application"
      ]
    },
    {
      "cell_type": "code",
      "metadata": {
        "id": "dDPxdmwKfsz0",
        "colab_type": "code",
        "outputId": "788a5f3d-2f3c-4a65-ed9c-749f013b1c3a",
        "colab": {
          "base_uri": "https://localhost:8080/",
          "height": 34
        }
      },
      "source": [
        "from google.colab import drive\n",
        "drive.mount('/content/drive')"
      ],
      "execution_count": 0,
      "outputs": [
        {
          "output_type": "stream",
          "text": [
            "Drive already mounted at /content/drive; to attempt to forcibly remount, call drive.mount(\"/content/drive\", force_remount=True).\n"
          ],
          "name": "stdout"
        }
      ]
    },
    {
      "cell_type": "markdown",
      "metadata": {
        "id": "63Du1LsjGdV2",
        "colab_type": "text"
      },
      "source": [
        "***L'execution de cette partie prend beaucoup de temps sur Colab !***"
      ]
    },
    {
      "cell_type": "code",
      "metadata": {
        "id": "UvDzvYMQf0Ta",
        "colab_type": "code",
        "colab": {}
      },
      "source": [
        "from scipy.sparse import save_npz, load_npz, coo_matrix\n",
        "\n",
        "def load_matrix(M_name):\n",
        "    \"\"\" Load previously saved sparce matrix M.\n",
        "\n",
        "    Parameters:\n",
        "        M_name (string): Matrix name as saved in drive (R, T or D).\n",
        "\n",
        "    Returns:\n",
        "        M (coo_matrix): Saved matrix.\n",
        "\n",
        "    \"\"\"\n",
        "\n",
        "    M = load_npz(\"/content/drive/My Drive/Factorisation matricielle - dataset/training_set_csv/\"+M_name+\".npz\")\n",
        "\n",
        "    return M"
      ],
      "execution_count": 0,
      "outputs": []
    },
    {
      "cell_type": "code",
      "metadata": {
        "id": "1BbByo0ff4V7",
        "colab_type": "code",
        "colab": {}
      },
      "source": [
        "# Loading R matrix\n",
        "\n",
        "R = load_matrix(\"R\")"
      ],
      "execution_count": 0,
      "outputs": []
    },
    {
      "cell_type": "code",
      "metadata": {
        "id": "ae3bgm0_f6wq",
        "colab_type": "code",
        "outputId": "c67236fb-2bec-49dc-d04b-bc0ea08cee4c",
        "colab": {
          "base_uri": "https://localhost:8080/"
        }
      },
      "source": [
        "import datetime\n",
        "start = datetime.datetime.now()\n",
        "\n",
        "B_i_opt, B_u_opt, P_u_opt, Q_i_opt, Y_j_opt = SVD_plus_plus(T, f=6, N=500, delta=0.01, lambda_5=0.02, plot=True)\n",
        "\n",
        "print(\"Parameters estimated in : {}\".format(datetime.datetime.now() - start))"
      ],
      "execution_count": 0,
      "outputs": [
        {
          "output_type": "stream",
          "text": [
            "Iteration 0\n"
          ],
          "name": "stdout"
        }
      ]
    },
    {
      "cell_type": "code",
      "metadata": {
        "id": "wgodSp4JiaPF",
        "colab_type": "code",
        "colab": {}
      },
      "source": [
        "import datetime\n",
        "start = datetime.datetime.now()\n",
        "\n",
        "R_estimate = recreate_matrix(B_i_opt, B_u_opt, mu=R.data.mean())\n",
        "\n",
        "print(\"Parameters estimated in : {}\".format(datetime.datetime.now() - start))"
      ],
      "execution_count": 0,
      "outputs": []
    }
  ]
}