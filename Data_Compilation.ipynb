{
  "nbformat": 4,
  "nbformat_minor": 0,
  "metadata": {
    "kernelspec": {
      "display_name": "Python 3",
      "language": "python",
      "name": "python3"
    },
    "language_info": {
      "codemirror_mode": {
        "name": "ipython",
        "version": 3
      },
      "file_extension": ".py",
      "mimetype": "text/x-python",
      "name": "python",
      "nbconvert_exporter": "python",
      "pygments_lexer": "ipython3",
      "version": "3.6.3"
    },
    "colab": {
      "name": "Data Compilation.ipynb",
      "provenance": [],
      "collapsed_sections": [
        "TMKO2E1FsaTD",
        "wwIw2f6UsaUK"
      ]
    }
  },
  "cells": [
    {
      "cell_type": "markdown",
      "metadata": {
        "id": "3UwzcA_6saS9",
        "colab_type": "text"
      },
      "source": [
        "# Data Compilation"
      ]
    },
    {
      "cell_type": "markdown",
      "metadata": {
        "id": "TMKO2E1FsaTD",
        "colab_type": "text"
      },
      "source": [
        "## 1. Generation of the rating dataset"
      ]
    },
    {
      "cell_type": "markdown",
      "metadata": {
        "id": "TYgCNTHCsaTF",
        "colab_type": "text"
      },
      "source": [
        "Write Python function rating_compiler to compile from the training_set.tar, the  17770  files and store the result into one data structure named  D"
      ]
    },
    {
      "cell_type": "code",
      "metadata": {
        "id": "AWxErJROsaTH",
        "colab_type": "code",
        "colab": {}
      },
      "source": [
        "import os\n",
        "\n",
        "# Looking throught every file in training_set folder \n",
        "# and storing file names into a list\n",
        "file_names = []\n",
        "for root, dirs, files in os.walk(\"training_set\"):\n",
        "    for filename in files:\n",
        "        file_names.append(\"training_set\\\\\" + filename)"
      ],
      "execution_count": 0,
      "outputs": []
    },
    {
      "cell_type": "code",
      "metadata": {
        "id": "HDHwwFH-saTV",
        "colab_type": "code",
        "colab": {},
        "outputId": "f085b03b-0bbf-4e53-b24b-6efbf43759bd"
      },
      "source": [
        "len(file_names)"
      ],
      "execution_count": 0,
      "outputs": [
        {
          "output_type": "execute_result",
          "data": {
            "text/plain": [
              "17770"
            ]
          },
          "metadata": {
            "tags": []
          },
          "execution_count": 2
        }
      ]
    },
    {
      "cell_type": "code",
      "metadata": {
        "id": "1Z41xiiusaTc",
        "colab_type": "code",
        "colab": {}
      },
      "source": [
        "import pandas as pd\n",
        "import numpy as np\n",
        "\n",
        "def add_movie_reviews(file_name):\n",
        "    \"\"\"\n",
        "    Return a dataframe with containing CustumerIDs \n",
        "    and their ratings for the file's MovieID.\n",
        "    \n",
        "    Parameters: \n",
        "    file_name (string): File name from the dataset mv_film_number.\n",
        "\n",
        "    Returns: \n",
        "    df (pd.DataFrame): Dataframe with containing CustumerIDs \n",
        "                        and their ratings for the file's MovieID.\n",
        "    \"\"\"\n",
        "    \n",
        "    f = open(file_name, \"r\")\n",
        "\n",
        "    # Read MovieID\n",
        "    MovieID = int(f.readline().rstrip()[:-1])\n",
        "    \n",
        "    # Read Movie's CustumerIDs and their Ratings\n",
        "    data = []\n",
        "    for line in f:\n",
        "        rating = line.split(\",\")\n",
        "        rating.insert(0,MovieID)\n",
        "        rating[1] = int(rating[1])  # Cast CustomerID\n",
        "        rating[2] = np.int8(rating[2])  # Cast Rating to save memory\n",
        "        data.append(rating[:-1])  # Skip Date since we don't need it\n",
        "\n",
        "    # Build the dataframe\n",
        "    df = pd.DataFrame(data, columns = ['MovieID', 'CustomerID', 'Rating'])\n",
        "    df.astype({'Rating': 'int8'})\n",
        "    \n",
        "    return df"
      ],
      "execution_count": 0,
      "outputs": []
    },
    {
      "cell_type": "code",
      "metadata": {
        "id": "QSg8F9gQsaTj",
        "colab_type": "code",
        "colab": {},
        "outputId": "fa782d05-b2c0-46b4-8f72-058eeecac41e"
      },
      "source": [
        "add_movie_reviews(file_names[0]).head()"
      ],
      "execution_count": 0,
      "outputs": [
        {
          "output_type": "execute_result",
          "data": {
            "text/html": [
              "<div>\n",
              "<style>\n",
              "    .dataframe thead tr:only-child th {\n",
              "        text-align: right;\n",
              "    }\n",
              "\n",
              "    .dataframe thead th {\n",
              "        text-align: left;\n",
              "    }\n",
              "\n",
              "    .dataframe tbody tr th {\n",
              "        vertical-align: top;\n",
              "    }\n",
              "</style>\n",
              "<table border=\"1\" class=\"dataframe\">\n",
              "  <thead>\n",
              "    <tr style=\"text-align: right;\">\n",
              "      <th></th>\n",
              "      <th>MovieID</th>\n",
              "      <th>CustomerID</th>\n",
              "      <th>Rating</th>\n",
              "    </tr>\n",
              "  </thead>\n",
              "  <tbody>\n",
              "    <tr>\n",
              "      <th>0</th>\n",
              "      <td>1</td>\n",
              "      <td>1488844</td>\n",
              "      <td>3</td>\n",
              "    </tr>\n",
              "    <tr>\n",
              "      <th>1</th>\n",
              "      <td>1</td>\n",
              "      <td>822109</td>\n",
              "      <td>5</td>\n",
              "    </tr>\n",
              "    <tr>\n",
              "      <th>2</th>\n",
              "      <td>1</td>\n",
              "      <td>885013</td>\n",
              "      <td>4</td>\n",
              "    </tr>\n",
              "    <tr>\n",
              "      <th>3</th>\n",
              "      <td>1</td>\n",
              "      <td>30878</td>\n",
              "      <td>4</td>\n",
              "    </tr>\n",
              "    <tr>\n",
              "      <th>4</th>\n",
              "      <td>1</td>\n",
              "      <td>823519</td>\n",
              "      <td>3</td>\n",
              "    </tr>\n",
              "  </tbody>\n",
              "</table>\n",
              "</div>"
            ],
            "text/plain": [
              "   MovieID  CustomerID  Rating\n",
              "0        1     1488844       3\n",
              "1        1      822109       5\n",
              "2        1      885013       4\n",
              "3        1       30878       4\n",
              "4        1      823519       3"
            ]
          },
          "metadata": {
            "tags": []
          },
          "execution_count": 4
        }
      ]
    },
    {
      "cell_type": "code",
      "metadata": {
        "id": "RsuqxSz4saTp",
        "colab_type": "code",
        "colab": {}
      },
      "source": [
        "def rating_compiler(file_names):\n",
        "    \"\"\"\n",
        "    Compiling all 17770 files into a .csv file.\n",
        "    \n",
        "    Parameters: \n",
        "    file_names (lsit): List of all file names from the dataset mv_film_number.\n",
        "\n",
        "    \"\"\"\n",
        "    \n",
        "    # Creating the result dataframe\n",
        "    D = pd.DataFrame(columns = ['MovieID', 'CustomerID', 'Rating']) \n",
        "    \n",
        "    # Fill the D dataframe\n",
        "    for movie_file in file_names:\n",
        "        print(\"Reading : \"+ movie_file[13:], end=\"\\r\")  # To keep an eye on the process\n",
        "        D = D.append(add_movie_reviews(movie_file))\n",
        "        \n",
        "    # Saving the D dataframe into a csv file\n",
        "    D.to_csv(\"training_set_csv\\\\D.csv\", index=False)  # Without an index to save memory"
      ],
      "execution_count": 0,
      "outputs": []
    },
    {
      "cell_type": "code",
      "metadata": {
        "id": "g-ftpiansaTz",
        "colab_type": "code",
        "colab": {}
      },
      "source": [
        "rating_compiler(file_names)\n",
        "\n",
        "# This operation was done in another notebook, and it took more that 2 hours "
      ],
      "execution_count": 0,
      "outputs": []
    },
    {
      "cell_type": "code",
      "metadata": {
        "id": "a-5cdfWHsaT4",
        "colab_type": "code",
        "colab": {},
        "outputId": "5efbb979-b71b-4b47-f565-269f3103691b"
      },
      "source": [
        "!dir training_set_csv"
      ],
      "execution_count": 0,
      "outputs": [
        {
          "output_type": "stream",
          "text": [
            " Volume in drive C has no label.\n",
            " Volume Serial Number is 36BC-B5A1\n",
            "\n",
            " Directory of C:\\Users\\Oussama\\Desktop\\Projet Factorisation matricielle\\training_set_csv\n",
            "\n",
            "02/04/2020  01:06 AM    <DIR>          .\n",
            "02/04/2020  01:06 AM    <DIR>          ..\n",
            "02/03/2020  11:26 PM     1,601,678,799 D.csv\n",
            "02/04/2020  01:37 AM     1,579,508,658 R.csv\n",
            "02/04/2020  01:00 AM        22,170,168 T.csv\n",
            "               3 File(s)  3,203,357,625 bytes\n",
            "               2 Dir(s)  11,025,993,728 bytes free\n"
          ],
          "name": "stdout"
        }
      ]
    },
    {
      "cell_type": "code",
      "metadata": {
        "id": "ZiF8tVR8saT9",
        "colab_type": "code",
        "colab": {},
        "outputId": "b6e0e074-a6b2-4987-d1c6-fe3a1694a428"
      },
      "source": [
        "# Read D as a dataframe from the csv file and counting execution time\n",
        "\n",
        "import datetime\n",
        "start = datetime.datetime.now()\n",
        "\n",
        "D_df = pd.read_csv(\"training_set_csv\\\\D.csv\", \n",
        "                    # Otherwise, every field's size would be 803844056 \n",
        "                    dtype={'Rating': 'uint8', 'CustomerID': 'uint32', 'MovieID': 'uint16'}) \n",
        "\n",
        "print(\"D_df was read in : {}\".format(datetime.datetime.now() - start))\n",
        "\n",
        "D_df.describe()"
      ],
      "execution_count": 0,
      "outputs": [
        {
          "output_type": "stream",
          "text": [
            "D_df was read in : 0:00:34.046092\n"
          ],
          "name": "stdout"
        },
        {
          "output_type": "execute_result",
          "data": {
            "text/html": [
              "<div>\n",
              "<style>\n",
              "    .dataframe thead tr:only-child th {\n",
              "        text-align: right;\n",
              "    }\n",
              "\n",
              "    .dataframe thead th {\n",
              "        text-align: left;\n",
              "    }\n",
              "\n",
              "    .dataframe tbody tr th {\n",
              "        vertical-align: top;\n",
              "    }\n",
              "</style>\n",
              "<table border=\"1\" class=\"dataframe\">\n",
              "  <thead>\n",
              "    <tr style=\"text-align: right;\">\n",
              "      <th></th>\n",
              "      <th>MovieID</th>\n",
              "      <th>CustomerID</th>\n",
              "      <th>Rating</th>\n",
              "    </tr>\n",
              "  </thead>\n",
              "  <tbody>\n",
              "    <tr>\n",
              "      <th>count</th>\n",
              "      <td>1.002358e+08</td>\n",
              "      <td>1.002358e+08</td>\n",
              "      <td>1.002358e+08</td>\n",
              "    </tr>\n",
              "    <tr>\n",
              "      <th>mean</th>\n",
              "      <td>9.052846e+03</td>\n",
              "      <td>1.322484e+06</td>\n",
              "      <td>3.604270e+00</td>\n",
              "    </tr>\n",
              "    <tr>\n",
              "      <th>std</th>\n",
              "      <td>5.125086e+03</td>\n",
              "      <td>7.645387e+05</td>\n",
              "      <td>1.085258e+00</td>\n",
              "    </tr>\n",
              "    <tr>\n",
              "      <th>min</th>\n",
              "      <td>1.000000e+00</td>\n",
              "      <td>6.000000e+00</td>\n",
              "      <td>1.000000e+00</td>\n",
              "    </tr>\n",
              "    <tr>\n",
              "      <th>25%</th>\n",
              "      <td>4.670000e+03</td>\n",
              "      <td>6.611920e+05</td>\n",
              "      <td>3.000000e+00</td>\n",
              "    </tr>\n",
              "    <tr>\n",
              "      <th>50%</th>\n",
              "      <td>9.049000e+03</td>\n",
              "      <td>1.318995e+06</td>\n",
              "      <td>4.000000e+00</td>\n",
              "    </tr>\n",
              "    <tr>\n",
              "      <th>75%</th>\n",
              "      <td>1.361400e+04</td>\n",
              "      <td>1.984455e+06</td>\n",
              "      <td>4.000000e+00</td>\n",
              "    </tr>\n",
              "    <tr>\n",
              "      <th>max</th>\n",
              "      <td>1.777000e+04</td>\n",
              "      <td>2.649429e+06</td>\n",
              "      <td>5.000000e+00</td>\n",
              "    </tr>\n",
              "  </tbody>\n",
              "</table>\n",
              "</div>"
            ],
            "text/plain": [
              "            MovieID    CustomerID        Rating\n",
              "count  1.002358e+08  1.002358e+08  1.002358e+08\n",
              "mean   9.052846e+03  1.322484e+06  3.604270e+00\n",
              "std    5.125086e+03  7.645387e+05  1.085258e+00\n",
              "min    1.000000e+00  6.000000e+00  1.000000e+00\n",
              "25%    4.670000e+03  6.611920e+05  3.000000e+00\n",
              "50%    9.049000e+03  1.318995e+06  4.000000e+00\n",
              "75%    1.361400e+04  1.984455e+06  4.000000e+00\n",
              "max    1.777000e+04  2.649429e+06  5.000000e+00"
            ]
          },
          "metadata": {
            "tags": []
          },
          "execution_count": 13
        }
      ]
    },
    {
      "cell_type": "code",
      "metadata": {
        "id": "HIBfy7yssaUE",
        "colab_type": "code",
        "colab": {},
        "outputId": "86984711-b74c-4182-a857-ab493bcb7a22"
      },
      "source": [
        "D_df.memory_usage(deep=True)"
      ],
      "execution_count": 0,
      "outputs": [
        {
          "output_type": "execute_result",
          "data": {
            "text/plain": [
              "Index                80\n",
              "MovieID       200471694\n",
              "CustomerID    400943388\n",
              "Rating        100235847\n",
              "dtype: int64"
            ]
          },
          "metadata": {
            "tags": []
          },
          "execution_count": 38
        }
      ]
    },
    {
      "cell_type": "markdown",
      "metadata": {
        "id": "wwIw2f6UsaUK",
        "colab_type": "text"
      },
      "source": [
        "## 2.Generation of training and test datasets"
      ]
    },
    {
      "cell_type": "markdown",
      "metadata": {
        "id": "L5_E7XgZsaUM",
        "colab_type": "text"
      },
      "source": [
        "Extract from D the ratings corresponding to the users and movies described in the probe.txt and store the result into one data structure named  T"
      ]
    },
    {
      "cell_type": "code",
      "metadata": {
        "id": "Kg8e7HrXsaUO",
        "colab_type": "code",
        "colab": {}
      },
      "source": [
        "def create_T_df(D_df):\n",
        "    \"\"\"\n",
        "    Returns T dataframe.\n",
        "    \n",
        "    Parameters: \n",
        "    D_df (pd.DataFrame): Dataframe generated from the 17770 files.\n",
        "\n",
        "    Returns: \n",
        "    T_df (pd.DataFrame): Dataframe corresponding to the probe.txt file elements.\n",
        "    \"\"\"\n",
        "    \n",
        "    f = open(\"probe.txt\", \"r\")\n",
        "    \n",
        "    current_movie = int(f.readline().rstrip()[0])\n",
        "    data = []\n",
        "    for line in f:\n",
        "        if ':' in line: #if it's a new movieID\n",
        "            current_movie = line[:-2]\n",
        "        else:\n",
        "            data.append([current_movie, line[:-1]])\n",
        "    \n",
        "    # Build a 2 columns T dataframe\n",
        "    pre_T_df = pd.DataFrame(data, columns = ['MovieID', 'CustomerID']).astype({'CustomerID': 'uint32', 'MovieID': 'uint16'})\n",
        "    \n",
        "    # Join D_df and pre_T_df on MovieID and CustomerID to get the ratings\n",
        "    # corresponding to the users and movies described in probe.txt and return\n",
        "    T_df = pd.merge(D_df, pre_T_df, how='inner', on=['MovieID', 'CustomerID'])\n",
        "    \n",
        "    return T_df"
      ],
      "execution_count": 0,
      "outputs": []
    },
    {
      "cell_type": "code",
      "metadata": {
        "id": "7GWIPkzbsaUV",
        "colab_type": "code",
        "colab": {},
        "outputId": "15fb6e5a-7272-48b9-c9d4-b311bfbdd500"
      },
      "source": [
        "# Building T as a dataframe and counting execution time\n",
        "start = datetime.datetime.now()\n",
        "\n",
        "T_df = create_T_df(D_df)\n",
        "\n",
        "print(\"T_df was read in : {}\".format(datetime.datetime.now() - start))\n",
        "\n",
        "T_df.describe()"
      ],
      "execution_count": 0,
      "outputs": [
        {
          "output_type": "stream",
          "text": [
            "T_df was read in : 0:01:00.002281\n"
          ],
          "name": "stdout"
        },
        {
          "output_type": "execute_result",
          "data": {
            "text/html": [
              "<div>\n",
              "<style>\n",
              "    .dataframe thead tr:only-child th {\n",
              "        text-align: right;\n",
              "    }\n",
              "\n",
              "    .dataframe thead th {\n",
              "        text-align: left;\n",
              "    }\n",
              "\n",
              "    .dataframe tbody tr th {\n",
              "        vertical-align: top;\n",
              "    }\n",
              "</style>\n",
              "<table border=\"1\" class=\"dataframe\">\n",
              "  <thead>\n",
              "    <tr style=\"text-align: right;\">\n",
              "      <th></th>\n",
              "      <th>MovieID</th>\n",
              "      <th>CustomerID</th>\n",
              "      <th>Rating</th>\n",
              "    </tr>\n",
              "  </thead>\n",
              "  <tbody>\n",
              "    <tr>\n",
              "      <th>count</th>\n",
              "      <td>1.406267e+06</td>\n",
              "      <td>1.406267e+06</td>\n",
              "      <td>1.406267e+06</td>\n",
              "    </tr>\n",
              "    <tr>\n",
              "      <th>mean</th>\n",
              "      <td>7.007113e+03</td>\n",
              "      <td>1.323325e+06</td>\n",
              "      <td>3.673713e+00</td>\n",
              "    </tr>\n",
              "    <tr>\n",
              "      <th>std</th>\n",
              "      <td>5.252483e+03</td>\n",
              "      <td>7.653146e+05</td>\n",
              "      <td>1.127476e+00</td>\n",
              "    </tr>\n",
              "    <tr>\n",
              "      <th>min</th>\n",
              "      <td>1.000000e+00</td>\n",
              "      <td>6.000000e+00</td>\n",
              "      <td>1.000000e+00</td>\n",
              "    </tr>\n",
              "    <tr>\n",
              "      <th>25%</th>\n",
              "      <td>2.342000e+03</td>\n",
              "      <td>6.592400e+05</td>\n",
              "      <td>3.000000e+00</td>\n",
              "    </tr>\n",
              "    <tr>\n",
              "      <th>50%</th>\n",
              "      <td>5.777000e+03</td>\n",
              "      <td>1.321746e+06</td>\n",
              "      <td>4.000000e+00</td>\n",
              "    </tr>\n",
              "    <tr>\n",
              "      <th>75%</th>\n",
              "      <td>1.131500e+04</td>\n",
              "      <td>1.986276e+06</td>\n",
              "      <td>5.000000e+00</td>\n",
              "    </tr>\n",
              "    <tr>\n",
              "      <th>max</th>\n",
              "      <td>1.777000e+04</td>\n",
              "      <td>2.649429e+06</td>\n",
              "      <td>5.000000e+00</td>\n",
              "    </tr>\n",
              "  </tbody>\n",
              "</table>\n",
              "</div>"
            ],
            "text/plain": [
              "            MovieID    CustomerID        Rating\n",
              "count  1.406267e+06  1.406267e+06  1.406267e+06\n",
              "mean   7.007113e+03  1.323325e+06  3.673713e+00\n",
              "std    5.252483e+03  7.653146e+05  1.127476e+00\n",
              "min    1.000000e+00  6.000000e+00  1.000000e+00\n",
              "25%    2.342000e+03  6.592400e+05  3.000000e+00\n",
              "50%    5.777000e+03  1.321746e+06  4.000000e+00\n",
              "75%    1.131500e+04  1.986276e+06  5.000000e+00\n",
              "max    1.777000e+04  2.649429e+06  5.000000e+00"
            ]
          },
          "metadata": {
            "tags": []
          },
          "execution_count": 45
        }
      ]
    },
    {
      "cell_type": "code",
      "metadata": {
        "id": "L27sNdtbsaUc",
        "colab_type": "code",
        "colab": {},
        "outputId": "9eb42bcb-2ae1-468a-9319-fcc115eacc48"
      },
      "source": [
        "T_df.memory_usage(deep=True)"
      ],
      "execution_count": 0,
      "outputs": [
        {
          "output_type": "execute_result",
          "data": {
            "text/plain": [
              "Index         11250136\n",
              "MovieID        2812534\n",
              "CustomerID     5625068\n",
              "Rating         1406267\n",
              "dtype: int64"
            ]
          },
          "metadata": {
            "tags": []
          },
          "execution_count": 81
        }
      ]
    },
    {
      "cell_type": "code",
      "metadata": {
        "id": "qZlAcjN8saUi",
        "colab_type": "code",
        "colab": {}
      },
      "source": [
        "# Saving the T dataframe into a csv file\n",
        "T_df.to_csv(\"training_set_csv\\\\T.csv\", index=False) #Without an index to save memory"
      ],
      "execution_count": 0,
      "outputs": []
    },
    {
      "cell_type": "code",
      "metadata": {
        "id": "me5FN0mXsaUs",
        "colab_type": "code",
        "colab": {},
        "outputId": "01dc9238-3739-4f30-df53-91a0b4628262"
      },
      "source": [
        "# Read T as a dataframe from the csv file and counting execution time\n",
        "import datetime\n",
        "start = datetime.datetime.now()\n",
        "\n",
        "T_df = pd.read_csv(\"training_set_csv\\\\T.csv\", \n",
        "                    #Otherwise, every field's size would be 803844056 \n",
        "                    dtype={'Rating': 'uint8', 'CustomerID': 'uint32', 'MovieID': 'uint16'}) \n",
        "\n",
        "print(\"D_df was read in : {}\".format(datetime.datetime.now() - start))\n",
        "\n",
        "T_df.memory_usage(deep=True)"
      ],
      "execution_count": 0,
      "outputs": [
        {
          "output_type": "stream",
          "text": [
            "D_df was read in : 0:00:00.747039\n"
          ],
          "name": "stdout"
        },
        {
          "output_type": "execute_result",
          "data": {
            "text/plain": [
              "Index              80\n",
              "MovieID       2812534\n",
              "CustomerID    5625068\n",
              "Rating        1406267\n",
              "dtype: int64"
            ]
          },
          "metadata": {
            "tags": []
          },
          "execution_count": 5
        }
      ]
    },
    {
      "cell_type": "markdown",
      "metadata": {
        "id": "osLefGOmsaU0",
        "colab_type": "text"
      },
      "source": [
        "Construct training dataset  R  as  D  from which we remove entries present in  T"
      ]
    },
    {
      "cell_type": "code",
      "metadata": {
        "id": "hlF3BF0lsaU4",
        "colab_type": "code",
        "colab": {}
      },
      "source": [
        "def create_R_dataframe(D_df, T_df):\n",
        "    \"\"\"\n",
        "    Returns the R dataframe.\n",
        "    \n",
        "    Parameters: \n",
        "    D_df (pd.DataFrame): Dataframe generated from the 17770 files.\n",
        "    T_df (pd.DataFrame): Dataframe corresponding to the probe.txt file elements.\n",
        "\n",
        "    Returns: \n",
        "    R_df (pd.DataFrame): Dataframe corresponding elements in D_df that doesn't \n",
        "                         belong to T_df.\n",
        "    \"\"\"\n",
        "\n",
        "    R_df = pd.concat([D_df, T_df, T_df]).drop_duplicates(keep=False)\n",
        "    R_df = R_df.astype({'Rating': 'uint8', 'CustomerID': 'uint32', 'MovieID': 'uint16'})\n",
        "    \n",
        "    return R_df"
      ],
      "execution_count": 0,
      "outputs": []
    },
    {
      "cell_type": "code",
      "metadata": {
        "id": "1HxrGUtVsaU8",
        "colab_type": "code",
        "colab": {},
        "outputId": "67bda1bf-cf3e-419f-abe2-61f9a77dd1a5"
      },
      "source": [
        "# Building R as a dataframe and counting execution time\n",
        "start = datetime.datetime.now()\n",
        "\n",
        "R_df = create_R_dataframe(D_df, T_df)\n",
        "\n",
        "print(\"R_df was read in : {}\".format(datetime.datetime.now() - start))\n",
        "\n",
        "R_df.memory_usage(deep=True)"
      ],
      "execution_count": 0,
      "outputs": [
        {
          "output_type": "stream",
          "text": [
            "R_df was read in : 0:01:12.387394\n"
          ],
          "name": "stdout"
        },
        {
          "output_type": "execute_result",
          "data": {
            "text/plain": [
              "Index         790636640\n",
              "MovieID       197659160\n",
              "CustomerID    395318320\n",
              "Rating         98829580\n",
              "dtype: int64"
            ]
          },
          "metadata": {
            "tags": []
          },
          "execution_count": 19
        }
      ]
    },
    {
      "cell_type": "code",
      "metadata": {
        "id": "OJenOggUsaVB",
        "colab_type": "code",
        "colab": {}
      },
      "source": [
        "# Saving the R dataframe into a csv file\n",
        "R_df.to_csv(\"training_set_csv\\\\R.csv\", index=False) #Without an index to save memory"
      ],
      "execution_count": 0,
      "outputs": []
    },
    {
      "cell_type": "code",
      "metadata": {
        "id": "Mp47yflnsaVI",
        "colab_type": "code",
        "colab": {},
        "outputId": "16a96368-2122-4a57-da10-e3a2881191fe"
      },
      "source": [
        "# Read R as a dataframe from the csv file and counting execution time\n",
        "import datetime\n",
        "start = datetime.datetime.now()\n",
        "\n",
        "R_df = pd.read_csv(\"training_set_csv\\\\R.csv\", \n",
        "                    #Otherwise, every field's size would be 803844056 \n",
        "                    dtype={'Rating': 'uint8', 'CustomerID': 'uint32', 'MovieID': 'uint16'}) \n",
        "\n",
        "print(\"D_df was read in : {}\".format(datetime.datetime.now() - start))\n",
        "\n",
        "R_df.memory_usage(deep=True)"
      ],
      "execution_count": 0,
      "outputs": [
        {
          "output_type": "stream",
          "text": [
            "D_df was read in : 0:00:41.402742\n"
          ],
          "name": "stdout"
        },
        {
          "output_type": "execute_result",
          "data": {
            "text/plain": [
              "Index                80\n",
              "MovieID       197659160\n",
              "CustomerID    395318320\n",
              "Rating         98829580\n",
              "dtype: int64"
            ]
          },
          "metadata": {
            "tags": []
          },
          "execution_count": 37
        }
      ]
    },
    {
      "cell_type": "markdown",
      "metadata": {
        "id": "ABQ4fXF_saVS",
        "colab_type": "text"
      },
      "source": [
        "D , T and R must all have the same format (for example users as rows and films as columns) "
      ]
    },
    {
      "cell_type": "code",
      "metadata": {
        "id": "dnfoOKTGsaVV",
        "colab_type": "code",
        "colab": {}
      },
      "source": [
        "from scipy.sparse import coo_matrix\n",
        "\n",
        "def dataframe_to_matrix(df):\n",
        "    \"\"\" Convert a dataframe into a Customer-Movie matrix.\n",
        "    \n",
        "    Parameters: \n",
        "    df (pd.DataFrame): Dataframe in the format [MovieID, CustomerID, Rating].\n",
        "\n",
        "    Returns: \n",
        "    M (coo_matrix): Sparse Customer-Movie matrix. \n",
        "    \"\"\"\n",
        "    \n",
        "    coo_val = np.array(df['Rating'].tolist(), dtype=np.float16)\n",
        "    coo_col = np.array(df['MovieID'].tolist(), dtype=np.int16) - 1  # Indices should start from 0\n",
        "    coo_row = np.array(df['CustomerID'].tolist())\n",
        "    _, indices = np.unique(coo_row, return_inverse=True)\n",
        "\n",
        "    M = coo_matrix((coo_val, (indices, coo_col)))\n",
        "    \n",
        "    return M"
      ],
      "execution_count": 0,
      "outputs": []
    },
    {
      "cell_type": "code",
      "metadata": {
        "id": "cMRY5AN2saVf",
        "colab_type": "code",
        "colab": {},
        "outputId": "4a572152-a18b-457f-a8ba-ee51358c0ae5"
      },
      "source": [
        "start = datetime.datetime.now()\n",
        "\n",
        "D = dataframe_to_matrix(D_df)\n",
        "\n",
        "print(\"D was read in : {}\".format(datetime.datetime.now() - start))"
      ],
      "execution_count": 0,
      "outputs": [
        {
          "output_type": "stream",
          "text": [
            "D was read in : 0:01:50.913945\n"
          ],
          "name": "stdout"
        }
      ]
    },
    {
      "cell_type": "code",
      "metadata": {
        "id": "oeTt1AB9saVl",
        "colab_type": "code",
        "colab": {},
        "outputId": "124af978-6bb7-4322-a3fa-ffbd5a9d4e1b"
      },
      "source": [
        "print(\"D sparce-matrix size : {} MB\".format(D.data.nbytes//(1024*1024)))"
      ],
      "execution_count": 0,
      "outputs": [
        {
          "output_type": "stream",
          "text": [
            "D sparce-matrix size : 191 MB\n"
          ],
          "name": "stdout"
        }
      ]
    },
    {
      "cell_type": "code",
      "metadata": {
        "id": "cU8YgHU7saVx",
        "colab_type": "code",
        "colab": {},
        "outputId": "58fe546b-9a78-4f66-a051-c13003fdd188"
      },
      "source": [
        "start = datetime.datetime.now()\n",
        "\n",
        "T = dataframe_to_matrix(T_df)\n",
        "\n",
        "print(\"T was read in : {}\".format(datetime.datetime.now() - start))"
      ],
      "execution_count": 0,
      "outputs": [
        {
          "output_type": "stream",
          "text": [
            "T was read in : 0:00:01.645597\n"
          ],
          "name": "stdout"
        }
      ]
    },
    {
      "cell_type": "code",
      "metadata": {
        "id": "HV0elbzSsaV3",
        "colab_type": "code",
        "colab": {},
        "outputId": "eab1444d-439d-4e8f-80a8-ee5a09a51f44"
      },
      "source": [
        "print(\"T sparce-matrix size : {} MB\".format(T.data.nbytes//(1024*1024)))"
      ],
      "execution_count": 0,
      "outputs": [
        {
          "output_type": "stream",
          "text": [
            "T sparce-matrix size : 2 MB\n"
          ],
          "name": "stdout"
        }
      ]
    },
    {
      "cell_type": "code",
      "metadata": {
        "id": "75OIgxMvsaV_",
        "colab_type": "code",
        "colab": {},
        "outputId": "95439571-4c27-48a1-e079-0bea2a5450c1"
      },
      "source": [
        "start = datetime.datetime.now()\n",
        "\n",
        "R = dataframe_to_matrix(R_df)\n",
        "\n",
        "print(\"R was read in : {}\".format(datetime.datetime.now() - start))"
      ],
      "execution_count": 0,
      "outputs": [
        {
          "output_type": "stream",
          "text": [
            "R was read in : 0:01:36.340841\n"
          ],
          "name": "stdout"
        }
      ]
    },
    {
      "cell_type": "code",
      "metadata": {
        "id": "HTFKlqNvsaWF",
        "colab_type": "code",
        "colab": {},
        "outputId": "1079f7f7-00e1-4bb0-a7bc-d9562e5599fc"
      },
      "source": [
        "print(\"R sparce-matrix size : {} MB\".format(R.data.nbytes//(1024*1024)))"
      ],
      "execution_count": 0,
      "outputs": [
        {
          "output_type": "stream",
          "text": [
            "R sparce-matrix size : 188 MB\n"
          ],
          "name": "stdout"
        }
      ]
    },
    {
      "cell_type": "code",
      "metadata": {
        "id": "KU0X7z_XvMAG",
        "colab_type": "code",
        "colab": {}
      },
      "source": [
        "from scipy.sparse import save_npz, load_npz, coo_matrix\n",
        "\n",
        "def save_matrix(M, M_name):\n",
        "    \"\"\" Save sparce matrix M to be used later.\n",
        "\n",
        "    Parameters:\n",
        "        M_name (string): Matrix name as saved in drive (R, T or D).\n",
        "        M (coo_matrix): Matrix to be saved.\n",
        "\n",
        "    \"\"\"\n",
        "\n",
        "    save_npz(\"training_set_csv\\\\\"+M_name+\".npz\", M)"
      ],
      "execution_count": 0,
      "outputs": []
    },
    {
      "cell_type": "code",
      "metadata": {
        "id": "4skuhpUqvI1m",
        "colab_type": "code",
        "colab": {}
      },
      "source": [
        "from scipy.sparse import save_npz, load_npz, coo_matrix\n",
        "\n",
        "def load_matrix(M_name):\n",
        "    \"\"\" Load previously saved sparce matrix M.\n",
        "\n",
        "    Parameters:\n",
        "        M_name (string): Matrix name as saved in drive (R, T or D).\n",
        "\n",
        "    Returns:\n",
        "        M (coo_matrix): Saved matrix.\n",
        "\n",
        "    \"\"\"\n",
        "\n",
        "    M = load_npz(\"training_set_csv\\\\\"+M_name+\".npz\")\n",
        "\n",
        "    return M"
      ],
      "execution_count": 0,
      "outputs": []
    },
    {
      "cell_type": "code",
      "metadata": {
        "id": "nR7LnraIsaWR",
        "colab_type": "code",
        "colab": {},
        "outputId": "da80b39b-9d09-436d-d1ed-4356f93ed24d"
      },
      "source": [
        "start = datetime.datetime.now()\n",
        "\n",
        "save_matrix(D, \"D\")\n",
        "\n",
        "print(\"D was saved in : {}\".format(datetime.datetime.now() - start))"
      ],
      "execution_count": 0,
      "outputs": [
        {
          "output_type": "stream",
          "text": [
            "D was saved in : 0:01:29.398792\n"
          ],
          "name": "stdout"
        }
      ]
    },
    {
      "cell_type": "code",
      "metadata": {
        "id": "oBzCdGhosaWU",
        "colab_type": "code",
        "colab": {},
        "outputId": "075d45a3-7b21-4381-8ae5-2b392d0b1155"
      },
      "source": [
        "start = datetime.datetime.now()\n",
        "\n",
        "save_matrix(T, \"T\")\n",
        "\n",
        "print(\"T was saved in : {}\".format(datetime.datetime.now() - start))"
      ],
      "execution_count": 0,
      "outputs": [
        {
          "output_type": "stream",
          "text": [
            "T was saved in : 0:00:01.273700\n"
          ],
          "name": "stdout"
        }
      ]
    },
    {
      "cell_type": "code",
      "metadata": {
        "id": "Y8fHz8X7saWY",
        "colab_type": "code",
        "colab": {}
      },
      "source": [
        "start = datetime.datetime.now()\n",
        "\n",
        "save_matrix(R, \"R\")\n",
        "\n",
        "print(\"R was saved in : {}\".format(datetime.datetime.now() - start))"
      ],
      "execution_count": 0,
      "outputs": []
    },
    {
      "cell_type": "code",
      "metadata": {
        "id": "yHJRUF1CsaWd",
        "colab_type": "code",
        "colab": {},
        "outputId": "a427b346-f8fb-40f0-e56c-9c11f5be8507"
      },
      "source": [
        "start = datetime.datetime.now()\n",
        "\n",
        "D = load_matrix(\"D\")\n",
        "\n",
        "print(\"D was loaded in : {}\".format(datetime.datetime.now() - start))"
      ],
      "execution_count": 0,
      "outputs": [
        {
          "output_type": "stream",
          "text": [
            "D was loaded in : 0:00:11.771217\n"
          ],
          "name": "stdout"
        }
      ]
    },
    {
      "cell_type": "code",
      "metadata": {
        "id": "VAtNcBw1saWm",
        "colab_type": "code",
        "colab": {},
        "outputId": "4ca284f5-a836-4ad3-dd15-ade7e0471b36"
      },
      "source": [
        "start = datetime.datetime.now()\n",
        "\n",
        "T = load_matrix(\"T\")\n",
        "\n",
        "print(\"T was loaded in : {}\".format(datetime.datetime.now() - start))"
      ],
      "execution_count": 0,
      "outputs": [
        {
          "output_type": "stream",
          "text": [
            "T was loaded in : 0:00:00.135644\n"
          ],
          "name": "stdout"
        }
      ]
    },
    {
      "cell_type": "code",
      "metadata": {
        "id": "9EbGNi0GsaWr",
        "colab_type": "code",
        "colab": {},
        "outputId": "685613cc-a81b-43cb-f95d-04839fa35f45"
      },
      "source": [
        "start = datetime.datetime.now()\n",
        "\n",
        "R = load_matrix(\"R\")\n",
        "\n",
        "print(\"R was loaded in : {}\".format(datetime.datetime.now() - start))"
      ],
      "execution_count": 0,
      "outputs": [
        {
          "output_type": "stream",
          "text": [
            "R was loaded in : 0:00:09.765261\n"
          ],
          "name": "stdout"
        }
      ]
    }
  ]
}