{
  "nbformat": 4,
  "nbformat_minor": 0,
  "metadata": {
    "colab": {
      "name": "Baseline model.ipynb",
      "provenance": [],
      "collapsed_sections": [],
      "machine_shape": "hm"
    },
    "kernelspec": {
      "name": "python3",
      "display_name": "Python 3"
    },
    "accelerator": "TPU"
  },
  "cells": [
    {
      "cell_type": "markdown",
      "metadata": {
        "id": "_On_m9lNd6i6",
        "colab_type": "text"
      },
      "source": [
        "#Baseline estimator implementation"
      ]
    },
    {
      "cell_type": "code",
      "metadata": {
        "id": "Swda_-ZNdzBy",
        "colab_type": "code",
        "colab": {}
      },
      "source": [
        "import numpy as np\n",
        "import pandas as pd\n",
        "import matplotlib.pyplot as plt"
      ],
      "execution_count": 0,
      "outputs": []
    },
    {
      "cell_type": "code",
      "metadata": {
        "id": "Gwjwv9qadmMJ",
        "colab_type": "code",
        "colab": {}
      },
      "source": [
        "def gradient_J(R, B_i, B_u, mu, lambda_1=0.02):\n",
        "    \"\"\"Calculate stochastic gradient descent for the Baseline model.\n",
        "\n",
        "    Parameters:\n",
        "        R (coo_matrix): Rating matrix.\n",
        "        B_i (1-D np.array): Observed deviation for each movie.\n",
        "        B_i (1-D np.array): Observed deviation for each user.\n",
        "        mu (float): Overall average rating.\n",
        "        lambda_1 (float): Penality coefficient.\n",
        "\n",
        "    Returns:\n",
        "        b_i (1-D np.array): Gradient of observed deviation for each movie.\n",
        "        b_u (1-D np.array): Gradient of observed deviation for each user.\n",
        "\n",
        "    \"\"\"\n",
        "    users, items = R.nonzero()\n",
        "    b_u, b_i =  np.zeros(len(B_u)), np.zeros(len(B_i))\n",
        "    for u, i in zip(users, items):\n",
        "        e = R[u, i] - (B_i[i] + B_u[u] + mu)\n",
        "        b_u[u] += e - lambda_1*B_u[u]\n",
        "        b_i[i] += e - lambda_1*B_i[i]\n",
        "\n",
        "    return -2*b_i, -2*b_u"
      ],
      "execution_count": 0,
      "outputs": []
    },
    {
      "cell_type": "code",
      "metadata": {
        "id": "trN28vX3dstl",
        "colab_type": "code",
        "colab": {}
      },
      "source": [
        "def rmse(R, B_i, B_u, mu):\n",
        "    \"\"\"Calculate the root-mean-square deviation using the\n",
        "       estimated parameters.\n",
        "\n",
        "    Parameters:\n",
        "        R (coo_matrix): Rating matrix.\n",
        "        B_i (1-D np.array): Observed deviation for each movie.\n",
        "        B_i (1-D np.array): Observed deviation for each user.\n",
        "        mu (float): Overall average rating.\n",
        "\n",
        "    Returns:\n",
        "        error (float): RMSE error value.\n",
        "\n",
        "    \"\"\"\n",
        "\n",
        "    users, items = R.nonzero()\n",
        "    error = 0\n",
        "    for u, i in zip(users, items):\n",
        "        error += pow(R[u, i] - mu - B_u[u] - B_i[i], 2)\n",
        "    error = (1 / R.shape[0]) * error\n",
        "\n",
        "    return error"
      ],
      "execution_count": 0,
      "outputs": []
    },
    {
      "cell_type": "code",
      "metadata": {
        "id": "EOUUZxgDduwF",
        "colab_type": "code",
        "colab": {}
      },
      "source": [
        "def recreate_matrix(B_i, B_u, mu):\n",
        "    \"\"\"Recreate the matrix using estimated parameters.\n",
        "\n",
        "    Parameters:\n",
        "        B_i (1-D np.array): Observed deviation for each movie.\n",
        "        B_i (1-D np.array): Observed deviation for each user.\n",
        "        mu (float): Overall average rating.\n",
        "\n",
        "    Returns:\n",
        "        R_estimated (2-D np.array): Recreated rating matrix.\n",
        "\n",
        "    \"\"\"\n",
        "\n",
        "    R_estimated = mu  + B_i[np.newaxis:,] + B_u[:,np.newaxis]\n",
        "\n",
        "    return R_estimated"
      ],
      "execution_count": 0,
      "outputs": []
    },
    {
      "cell_type": "code",
      "metadata": {
        "id": "amc4zejIdw9k",
        "colab_type": "code",
        "colab": {}
      },
      "source": [
        "def baseline_estimator(R, N, delta=0.01, lambda_1=0.02, verbose=False, plot=False):\n",
        "    \"\"\"Estimate Baseline model parameters using SGD.\n",
        "\n",
        "    Parameters:\n",
        "        R (coo_matrix): Rating matrix.\n",
        "        N (int): Number of iterations.\n",
        "        delta (float): Learning rate.\n",
        "        lambda_1 (float): Penality coefficient.\n",
        "        plot (boolean): Plot RMSE track if True.\n",
        "        verbose (boolean): Print number of the current iteration at excecution.\n",
        "\n",
        "    Returns:\n",
        "        B_i_opt (1-D array): Optimal observed deviation for each movie.\n",
        "        B_u_opt (1-D array): Optimal observed deviation for each user.\n",
        "\n",
        "    \"\"\"\n",
        "\n",
        "    # Weight initialization\n",
        "    B_u = 2.5 * np.random.rand(R.shape[0])\n",
        "    B_i = 2.5 * np.random.rand(R.shape[1])\n",
        "\n",
        "    # Logs initialization\n",
        "    mse_track = np.zeros(N) \n",
        "    w_track = []\n",
        "\n",
        "    # Calculate overall average rating value\n",
        "    mu = R.data.mean()\n",
        "\n",
        "    # Convert R into a csr_matrix\n",
        "    R = R.tocsr()\n",
        "\n",
        "    # SDG on N iterations\n",
        "    for i in range(N):\n",
        "        if verbose : \n",
        "            print(\"Iteration \"+ str(i))\n",
        "        \n",
        "        # Calculate SGD \n",
        "        gradient = gradient_J(R, B_i, B_u, mu, lambda_1)\n",
        "        B_i = B_i - delta * gradient[0] \n",
        "        B_u = B_u - delta * gradient[1]\n",
        "\n",
        "        # Saving RMSE values\n",
        "        mse_track[i] = rmse(R, B_i, B_u, mu)\n",
        "\n",
        "        # Saving estimated parameters\n",
        "        w_track.append([B_i, B_u])\n",
        "\n",
        "    # Selecting the optimal parameters\n",
        "    idx_min = np.argmin(mse_track)\n",
        "    B_i_opt = w_track[idx_min][0]\n",
        "    B_u_opt = w_track[idx_min][1]\n",
        "\n",
        "    # PLoting RMSE deviation if plot is True\n",
        "    if plot:\n",
        "        mse_track = np.array([float(round(mse,3)) for mse in mse_track])\n",
        "        plt.figure(figsize = (20,8))\n",
        "        plt.rcParams['axes.facecolor'] = 'orange'\n",
        "        plt.grid(c='white')\n",
        "        plt.plot(np.arange(0,N), mse_track, 'blue')\n",
        "        plt.xlabel('Iteration')\n",
        "        plt.ylabel('MSE')\n",
        "        plt.title('Minimum MSE = {:.4f} reached at iteration {}'.format(min(mse_track),idx_min+1), fontsize = 15)\n",
        "        plt.axvline(x = idx_min, color = 'green')\n",
        "\n",
        "    return B_i_opt, B_u_opt"
      ],
      "execution_count": 0,
      "outputs": []
    },
    {
      "cell_type": "markdown",
      "metadata": {
        "id": "6f9v6mfUeGnU",
        "colab_type": "text"
      },
      "source": [
        "# Dump example"
      ]
    },
    {
      "cell_type": "code",
      "metadata": {
        "id": "E_d92cqVeJq7",
        "colab_type": "code",
        "outputId": "e4e0a61b-33b2-4739-d455-9d56e3046511",
        "colab": {
          "base_uri": "https://localhost:8080/",
          "height": 535
        }
      },
      "source": [
        "from scipy.sparse import coo_matrix\n",
        "R = coo_matrix(np.array([\n",
        "                [0, 3, 0, 4, 0, 5, 2],\n",
        "                [1, 0, 0, 2, 1, 2, 0],\n",
        "                [5, 2, 4, 5, 0, 0, 3],\n",
        "                [3, 0, 0, 3, 5, 5, 1],\n",
        "                [1, 0, 5, 0, 1, 1, 0],\n",
        "                [2, 4, 1, 4, 2, 3, 0],\n",
        "                [0, 0, 0, 2, 0, 0, 4],\n",
        "                [1, 4, 4, 3, 3, 0, 2]]\n",
        "))\n",
        "\n",
        "B_i_opt, B_u_opt = baseline_estimator(R, N=1000, delta=0.01, lambda_1=0.02, verbose=False, plot=True)"
      ],
      "execution_count": 0,
      "outputs": [
        {
          "output_type": "display_data",
          "data": {
            "image/png": "[encoded data removed]",
            "text/plain": [
              "<Figure size 1440x576 with 1 Axes>"
            ]
          },
          "metadata": {
            "tags": []
          }
        }
      ]
    },
    {
      "cell_type": "code",
      "metadata": {
        "id": "lTCMcIr4eqvs",
        "colab_type": "code",
        "outputId": "f4204267-4eb1-41af-8e86-340102f5a436",
        "colab": {
          "base_uri": "https://localhost:8080/",
          "height": 286
        }
      },
      "source": [
        "R_estimate = recreate_matrix(B_i_opt, B_u_opt, mu=R.data.mean())\n",
        "R_estimate"
      ],
      "execution_count": 0,
      "outputs": [
        {
          "output_type": "execute_result",
          "data": {
            "text/plain": [
              "array([[3.00491409, 3.55578326, 4.21393419, 3.76919192, 3.46894889,\n",
              "        4.13860179, 2.48698481],\n",
              "       [0.93846301, 1.48933218, 2.14748311, 1.70274084, 1.4024978 ,\n",
              "        2.07215071, 0.42053373],\n",
              "       [3.3784423 , 3.92931147, 4.5874624 , 4.14272013, 3.84247709,\n",
              "        4.51213   , 2.86051302],\n",
              "       [3.01808035, 3.56894952, 4.22710045, 3.78235818, 3.48211514,\n",
              "        4.15176805, 2.50015107],\n",
              "       [1.31965773, 1.8705269 , 2.52867784, 2.08393557, 1.78369253,\n",
              "        2.45334543, 0.80172845],\n",
              "       [1.98688811, 2.53775728, 3.19590822, 2.75116595, 2.45092291,\n",
              "        3.12057581, 1.46895883],\n",
              "       [2.86962179, 3.42049096, 4.07864189, 3.63389962, 3.33365658,\n",
              "        4.00330949, 2.35169251],\n",
              "       [2.42015956, 2.97102873, 3.62917966, 3.18443739, 2.88419435,\n",
              "        3.55384726, 1.90223028]])"
            ]
          },
          "metadata": {
            "tags": []
          },
          "execution_count": 18
        }
      ]
    },
    {
      "cell_type": "code",
      "metadata": {
        "id": "GNu_m-t9Fnmc",
        "colab_type": "code",
        "outputId": "0bc0bfca-bb8f-4bea-b85a-de455f2e19a5",
        "colab": {
          "base_uri": "https://localhost:8080/",
          "height": 151
        }
      },
      "source": [
        "R.toarray()"
      ],
      "execution_count": 0,
      "outputs": [
        {
          "output_type": "execute_result",
          "data": {
            "text/plain": [
              "array([[0, 3, 0, 4, 0, 5, 2],\n",
              "       [1, 0, 0, 2, 1, 2, 0],\n",
              "       [5, 2, 4, 5, 0, 0, 3],\n",
              "       [3, 0, 0, 3, 5, 5, 1],\n",
              "       [1, 0, 5, 0, 1, 1, 0],\n",
              "       [2, 4, 1, 4, 2, 3, 0],\n",
              "       [0, 0, 0, 2, 0, 0, 4],\n",
              "       [1, 4, 4, 3, 3, 0, 2]])"
            ]
          },
          "metadata": {
            "tags": []
          },
          "execution_count": 20
        }
      ]
    },
    {
      "cell_type": "markdown",
      "metadata": {
        "id": "bhcauMsefqBM",
        "colab_type": "text"
      },
      "source": [
        "# Real application"
      ]
    },
    {
      "cell_type": "code",
      "metadata": {
        "id": "dDPxdmwKfsz0",
        "colab_type": "code",
        "outputId": "5a9cb948-c54d-485d-d855-a481c1ef513a",
        "colab": {
          "base_uri": "https://localhost:8080/",
          "height": 34
        }
      },
      "source": [
        "from google.colab import drive\n",
        "drive.mount('/content/drive')"
      ],
      "execution_count": 0,
      "outputs": [
        {
          "output_type": "stream",
          "text": [
            "Drive already mounted at /content/drive; to attempt to forcibly remount, call drive.mount(\"/content/drive\", force_remount=True).\n"
          ],
          "name": "stdout"
        }
      ]
    },
    {
      "cell_type": "markdown",
      "metadata": {
        "id": "63Du1LsjGdV2",
        "colab_type": "text"
      },
      "source": [
        "***L'execution de cette partie prend beaucoup de temps sur Colab !***"
      ]
    },
    {
      "cell_type": "code",
      "metadata": {
        "id": "UvDzvYMQf0Ta",
        "colab_type": "code",
        "colab": {}
      },
      "source": [
        "from scipy.sparse import save_npz, load_npz, coo_matrix\n",
        "\n",
        "def load_matrix(M_name):\n",
        "    \"\"\" Load previously saved sparce matrix M.\n",
        "\n",
        "    Parameters:\n",
        "        M_name (string): Matrix name as saved in drive (R, T or D).\n",
        "\n",
        "    Returns:\n",
        "        M (coo_matrix): Saved matrix.\n",
        "\n",
        "    \"\"\"\n",
        "\n",
        "    M = load_npz(\"/content/drive/My Drive/Factorisation matricielle - dataset/training_set_csv/\"+M_name+\".npz\")\n",
        "\n",
        "    return M"
      ],
      "execution_count": 0,
      "outputs": []
    },
    {
      "cell_type": "code",
      "metadata": {
        "id": "1BbByo0ff4V7",
        "colab_type": "code",
        "colab": {}
      },
      "source": [
        "# Loading R matrix\n",
        "\n",
        "R = load_matrix(\"R\")"
      ],
      "execution_count": 0,
      "outputs": []
    },
    {
      "cell_type": "code",
      "metadata": {
        "id": "ae3bgm0_f6wq",
        "colab_type": "code",
        "colab": {}
      },
      "source": [
        "import datetime\n",
        "start = datetime.datetime.now()\n",
        "\n",
        "B_i_opt, B_u_opt = baseline_estimator(T, N=500, delta=0.01, lambda_1=0.02, verbose=False, plot=True)\n",
        "\n",
        "print(\"Parameters estimated in : {}\".format(datetime.datetime.now() - start))"
      ],
      "execution_count": 0,
      "outputs": []
    },
    {
      "cell_type": "code",
      "metadata": {
        "id": "wgodSp4JiaPF",
        "colab_type": "code",
        "colab": {}
      },
      "source": [
        "import datetime\n",
        "start = datetime.datetime.now()\n",
        "\n",
        "R_estimate = recreate_matrix(B_i_opt, B_u_opt, mu=R.data.mean())\n",
        "\n",
        "print(\"Parameters estimated in : {}\".format(datetime.datetime.now() - start))"
      ],
      "execution_count": 0,
      "outputs": []
    }
  ]
}